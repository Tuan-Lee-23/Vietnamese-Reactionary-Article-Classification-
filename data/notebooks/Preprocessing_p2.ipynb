{
  "nbformat": 4,
  "nbformat_minor": 0,
  "metadata": {
    "colab": {
      "name": "Preprocessing p2.ipynb",
      "provenance": [],
      "collapsed_sections": []
    },
    "kernelspec": {
      "name": "python3",
      "display_name": "Python 3"
    },
    "language_info": {
      "name": "python"
    },
    "widgets": {
      "application/vnd.jupyter.widget-state+json": {
        "96b6a848d1cd4eb7810864f126faf6e2": {
          "model_module": "@jupyter-widgets/controls",
          "model_name": "HBoxModel",
          "state": {
            "_view_name": "HBoxView",
            "_dom_classes": [],
            "_model_name": "HBoxModel",
            "_view_module": "@jupyter-widgets/controls",
            "_model_module_version": "1.5.0",
            "_view_count": null,
            "_view_module_version": "1.5.0",
            "box_style": "",
            "layout": "IPY_MODEL_a13c53e549194053a38fb73d231927c1",
            "_model_module": "@jupyter-widgets/controls",
            "children": [
              "IPY_MODEL_5f79193f1c314289b229b20a36d3dc43",
              "IPY_MODEL_eca09f563cbe4164986a3895e6c9f1bd"
            ]
          }
        },
        "a13c53e549194053a38fb73d231927c1": {
          "model_module": "@jupyter-widgets/base",
          "model_name": "LayoutModel",
          "state": {
            "_view_name": "LayoutView",
            "grid_template_rows": null,
            "right": null,
            "justify_content": null,
            "_view_module": "@jupyter-widgets/base",
            "overflow": null,
            "_model_module_version": "1.2.0",
            "_view_count": null,
            "flex_flow": null,
            "width": null,
            "min_width": null,
            "border": null,
            "align_items": null,
            "bottom": null,
            "_model_module": "@jupyter-widgets/base",
            "top": null,
            "grid_column": null,
            "overflow_y": null,
            "overflow_x": null,
            "grid_auto_flow": null,
            "grid_area": null,
            "grid_template_columns": null,
            "flex": null,
            "_model_name": "LayoutModel",
            "justify_items": null,
            "grid_row": null,
            "max_height": null,
            "align_content": null,
            "visibility": null,
            "align_self": null,
            "height": null,
            "min_height": null,
            "padding": null,
            "grid_auto_rows": null,
            "grid_gap": null,
            "max_width": null,
            "order": null,
            "_view_module_version": "1.2.0",
            "grid_template_areas": null,
            "object_position": null,
            "object_fit": null,
            "grid_auto_columns": null,
            "margin": null,
            "display": null,
            "left": null
          }
        },
        "5f79193f1c314289b229b20a36d3dc43": {
          "model_module": "@jupyter-widgets/controls",
          "model_name": "FloatProgressModel",
          "state": {
            "_view_name": "ProgressView",
            "style": "IPY_MODEL_4cf5c547c80140819fc0ea145ad526c0",
            "_dom_classes": [],
            "description": "100%",
            "_model_name": "FloatProgressModel",
            "bar_style": "success",
            "max": 49517,
            "_view_module": "@jupyter-widgets/controls",
            "_model_module_version": "1.5.0",
            "value": 49517,
            "_view_count": null,
            "_view_module_version": "1.5.0",
            "orientation": "horizontal",
            "min": 0,
            "description_tooltip": null,
            "_model_module": "@jupyter-widgets/controls",
            "layout": "IPY_MODEL_b7b8e5c49a3a435ba74045e588e054bf"
          }
        },
        "eca09f563cbe4164986a3895e6c9f1bd": {
          "model_module": "@jupyter-widgets/controls",
          "model_name": "HTMLModel",
          "state": {
            "_view_name": "HTMLView",
            "style": "IPY_MODEL_1d1085fceee648f7af9bc16d4a83f443",
            "_dom_classes": [],
            "description": "",
            "_model_name": "HTMLModel",
            "placeholder": "​",
            "_view_module": "@jupyter-widgets/controls",
            "_model_module_version": "1.5.0",
            "value": " 49517/49517 [16:18&lt;00:00, 50.62it/s]",
            "_view_count": null,
            "_view_module_version": "1.5.0",
            "description_tooltip": null,
            "_model_module": "@jupyter-widgets/controls",
            "layout": "IPY_MODEL_b8a9c214d4a049cd8d9a903674c2590c"
          }
        },
        "4cf5c547c80140819fc0ea145ad526c0": {
          "model_module": "@jupyter-widgets/controls",
          "model_name": "ProgressStyleModel",
          "state": {
            "_view_name": "StyleView",
            "_model_name": "ProgressStyleModel",
            "description_width": "initial",
            "_view_module": "@jupyter-widgets/base",
            "_model_module_version": "1.5.0",
            "_view_count": null,
            "_view_module_version": "1.2.0",
            "bar_color": null,
            "_model_module": "@jupyter-widgets/controls"
          }
        },
        "b7b8e5c49a3a435ba74045e588e054bf": {
          "model_module": "@jupyter-widgets/base",
          "model_name": "LayoutModel",
          "state": {
            "_view_name": "LayoutView",
            "grid_template_rows": null,
            "right": null,
            "justify_content": null,
            "_view_module": "@jupyter-widgets/base",
            "overflow": null,
            "_model_module_version": "1.2.0",
            "_view_count": null,
            "flex_flow": null,
            "width": null,
            "min_width": null,
            "border": null,
            "align_items": null,
            "bottom": null,
            "_model_module": "@jupyter-widgets/base",
            "top": null,
            "grid_column": null,
            "overflow_y": null,
            "overflow_x": null,
            "grid_auto_flow": null,
            "grid_area": null,
            "grid_template_columns": null,
            "flex": null,
            "_model_name": "LayoutModel",
            "justify_items": null,
            "grid_row": null,
            "max_height": null,
            "align_content": null,
            "visibility": null,
            "align_self": null,
            "height": null,
            "min_height": null,
            "padding": null,
            "grid_auto_rows": null,
            "grid_gap": null,
            "max_width": null,
            "order": null,
            "_view_module_version": "1.2.0",
            "grid_template_areas": null,
            "object_position": null,
            "object_fit": null,
            "grid_auto_columns": null,
            "margin": null,
            "display": null,
            "left": null
          }
        },
        "1d1085fceee648f7af9bc16d4a83f443": {
          "model_module": "@jupyter-widgets/controls",
          "model_name": "DescriptionStyleModel",
          "state": {
            "_view_name": "StyleView",
            "_model_name": "DescriptionStyleModel",
            "description_width": "",
            "_view_module": "@jupyter-widgets/base",
            "_model_module_version": "1.5.0",
            "_view_count": null,
            "_view_module_version": "1.2.0",
            "_model_module": "@jupyter-widgets/controls"
          }
        },
        "b8a9c214d4a049cd8d9a903674c2590c": {
          "model_module": "@jupyter-widgets/base",
          "model_name": "LayoutModel",
          "state": {
            "_view_name": "LayoutView",
            "grid_template_rows": null,
            "right": null,
            "justify_content": null,
            "_view_module": "@jupyter-widgets/base",
            "overflow": null,
            "_model_module_version": "1.2.0",
            "_view_count": null,
            "flex_flow": null,
            "width": null,
            "min_width": null,
            "border": null,
            "align_items": null,
            "bottom": null,
            "_model_module": "@jupyter-widgets/base",
            "top": null,
            "grid_column": null,
            "overflow_y": null,
            "overflow_x": null,
            "grid_auto_flow": null,
            "grid_area": null,
            "grid_template_columns": null,
            "flex": null,
            "_model_name": "LayoutModel",
            "justify_items": null,
            "grid_row": null,
            "max_height": null,
            "align_content": null,
            "visibility": null,
            "align_self": null,
            "height": null,
            "min_height": null,
            "padding": null,
            "grid_auto_rows": null,
            "grid_gap": null,
            "max_width": null,
            "order": null,
            "_view_module_version": "1.2.0",
            "grid_template_areas": null,
            "object_position": null,
            "object_fit": null,
            "grid_auto_columns": null,
            "margin": null,
            "display": null,
            "left": null
          }
        }
      }
    }
  },
  "cells": [
    {
      "cell_type": "markdown",
      "metadata": {
        "id": "yB0suT23oChI"
      },
      "source": [
        "# Import libs"
      ]
    },
    {
      "cell_type": "code",
      "metadata": {
        "colab": {
          "base_uri": "https://localhost:8080/"
        },
        "id": "c8bN0fcFoJW_",
        "outputId": "a3e7f955-1db1-45e9-e004-c7b9eabc4a2a"
      },
      "source": [
        "import re\n",
        "import seaborn as sns\n",
        "import os \n",
        "import pandas as pd \n",
        "import numpy as np\n",
        "import matplotlib.pyplot as plt \n",
        "from tqdm.notebook import tqdm\n",
        "import pickle\n",
        "import plotly.express as px\n",
        "import plotly.figure_factory as ff\n",
        "from matplotlib import rcParams\n",
        "\n",
        "tqdm.pandas()\n",
        "\n",
        "sns.set_theme()\n",
        "rcParams['figure.figsize'] = 15,8"
      ],
      "execution_count": 5,
      "outputs": [
        {
          "output_type": "stream",
          "text": [
            "/usr/local/lib/python3.7/dist-packages/tqdm/std.py:658: FutureWarning:\n",
            "\n",
            "The Panel class is removed from pandas. Accessing it from the top-level namespace will also be removed in the next version\n",
            "\n"
          ],
          "name": "stderr"
        }
      ]
    },
    {
      "cell_type": "code",
      "metadata": {
        "colab": {
          "base_uri": "https://localhost:8080/"
        },
        "id": "niM-ughTQJPE",
        "outputId": "26ec719b-0056-4811-c5b7-a5b5a7c29314"
      },
      "source": [
        "!pip install vncorenlp"
      ],
      "execution_count": 1,
      "outputs": [
        {
          "output_type": "stream",
          "text": [
            "Collecting vncorenlp\n",
            "\u001b[?25l  Downloading https://files.pythonhosted.org/packages/71/c2/96a60cf75421ecc740829fa920c617b3dd7fa6791e17554e7c6f3e7d7fca/vncorenlp-1.0.3.tar.gz (2.6MB)\n",
            "\u001b[K     |████████████████████████████████| 2.7MB 6.7MB/s \n",
            "\u001b[?25hRequirement already satisfied: requests in /usr/local/lib/python3.7/dist-packages (from vncorenlp) (2.23.0)\n",
            "Requirement already satisfied: urllib3!=1.25.0,!=1.25.1,<1.26,>=1.21.1 in /usr/local/lib/python3.7/dist-packages (from requests->vncorenlp) (1.24.3)\n",
            "Requirement already satisfied: certifi>=2017.4.17 in /usr/local/lib/python3.7/dist-packages (from requests->vncorenlp) (2021.5.30)\n",
            "Requirement already satisfied: chardet<4,>=3.0.2 in /usr/local/lib/python3.7/dist-packages (from requests->vncorenlp) (3.0.4)\n",
            "Requirement already satisfied: idna<3,>=2.5 in /usr/local/lib/python3.7/dist-packages (from requests->vncorenlp) (2.10)\n",
            "Building wheels for collected packages: vncorenlp\n",
            "  Building wheel for vncorenlp (setup.py) ... \u001b[?25l\u001b[?25hdone\n",
            "  Created wheel for vncorenlp: filename=vncorenlp-1.0.3-cp37-none-any.whl size=2645952 sha256=e63c5e5dc1c581585385b85aa5ef7fb0352d9fdb7bb77f1b3d7ac47dff57920d\n",
            "  Stored in directory: /root/.cache/pip/wheels/09/54/8b/043667de6091d06a381d7745f44174504a9a4a56ecc9380c54\n",
            "Successfully built vncorenlp\n",
            "Installing collected packages: vncorenlp\n",
            "Successfully installed vncorenlp-1.0.3\n"
          ],
          "name": "stdout"
        }
      ]
    },
    {
      "cell_type": "markdown",
      "metadata": {
        "id": "6okGYV70oLKR"
      },
      "source": [
        "# Git clone"
      ]
    },
    {
      "cell_type": "code",
      "metadata": {
        "colab": {
          "base_uri": "https://localhost:8080/"
        },
        "id": "LevAhqFaoPz9",
        "outputId": "6684803e-c7c5-44bb-cf86-7bb8a02b0dc0"
      },
      "source": [
        "# Clone the entire repo.\n",
        "!git clone https://github.com/Tuan-Lee-23/Vietnamese-Reactionary-Article-Classification-.git\n",
        "%cd Vietnamese-Reactionary-Article-Classification-/\n",
        "!ls"
      ],
      "execution_count": 2,
      "outputs": [
        {
          "output_type": "stream",
          "text": [
            "Cloning into 'Vietnamese-Reactionary-Article-Classification-'...\n",
            "remote: Enumerating objects: 187, done.\u001b[K\n",
            "remote: Counting objects: 100% (33/33), done.\u001b[K\n",
            "remote: Compressing objects: 100% (29/29), done.\u001b[K\n",
            "remote: Total 187 (delta 3), reused 31 (delta 2), pack-reused 154\u001b[K\n",
            "Receiving objects: 100% (187/187), 188.70 MiB | 20.08 MiB/s, done.\n",
            "Resolving deltas: 100% (54/54), done.\n",
            "Checking out files: 100% (60/60), done.\n",
            "/content/Vietnamese-Reactionary-Article-Classification-\n",
            "analysis  data\tdemo  modeling\tREADME.md\n"
          ],
          "name": "stdout"
        }
      ]
    },
    {
      "cell_type": "markdown",
      "metadata": {
        "id": "2H1LyJPQovtt"
      },
      "source": [
        "# Read pickles"
      ]
    },
    {
      "cell_type": "code",
      "metadata": {
        "colab": {
          "base_uri": "https://localhost:8080/"
        },
        "id": "vsg3fWN2oz5L",
        "outputId": "d011fc15-d1e2-4e0f-8963-47571229faa9"
      },
      "source": [
        "%cd data/preprocessed/\n",
        "! wget 'https://github.com/vncorenlp/VnCoreNLP/archive/v1.1.1.zip' -O ./models.$$ && unzip -o ./models.$$ && rm -r ./models.$$."
      ],
      "execution_count": 3,
      "outputs": [
        {
          "output_type": "stream",
          "text": [
            "/content/Vietnamese-Reactionary-Article-Classification-/data/preprocessed\n",
            "--2021-07-06 07:29:03--  https://github.com/vncorenlp/VnCoreNLP/archive/v1.1.1.zip\n",
            "Resolving github.com (github.com)... 140.82.112.3\n",
            "Connecting to github.com (github.com)|140.82.112.3|:443... connected.\n",
            "HTTP request sent, awaiting response... 302 Found\n",
            "Location: https://codeload.github.com/vncorenlp/VnCoreNLP/zip/v1.1.1 [following]\n",
            "--2021-07-06 07:29:04--  https://codeload.github.com/vncorenlp/VnCoreNLP/zip/v1.1.1\n",
            "Resolving codeload.github.com (codeload.github.com)... 140.82.114.10\n",
            "Connecting to codeload.github.com (codeload.github.com)|140.82.114.10|:443... connected.\n",
            "HTTP request sent, awaiting response... 200 OK\n",
            "Length: unspecified [application/zip]\n",
            "Saving to: ‘./models.140’\n",
            "\n",
            "./models.140            [           <=>      ] 137.29M  24.3MB/s    in 5.7s    \n",
            "\n",
            "2021-07-06 07:29:09 (24.3 MB/s) - ‘./models.140’ saved [143955573]\n",
            "\n",
            "Archive:  ./models.140\n",
            "3b5c2aac53bb1fda0502d89ab8085b712e299fab\n",
            "   creating: VnCoreNLP-1.1.1/\n",
            "  inflating: VnCoreNLP-1.1.1/LICENSE.md  \n",
            "  inflating: VnCoreNLP-1.1.1/Readme.md  \n",
            "  inflating: VnCoreNLP-1.1.1/TagsetDescription.md  \n",
            "  inflating: VnCoreNLP-1.1.1/VLSP2013_POS_tagset.pdf  \n",
            "  inflating: VnCoreNLP-1.1.1/VnCoreNLP-1.1.1.jar  \n",
            "  inflating: VnCoreNLP-1.1.1/VnDT-treebank-description.pdf  \n",
            "   creating: VnCoreNLP-1.1.1/models/\n",
            "   creating: VnCoreNLP-1.1.1/models/dep/\n",
            " extracting: VnCoreNLP-1.1.1/models/dep/vi-dep.xz  \n",
            "   creating: VnCoreNLP-1.1.1/models/ner/\n",
            " extracting: VnCoreNLP-1.1.1/models/ner/vi-500brownclusters.xz  \n",
            " extracting: VnCoreNLP-1.1.1/models/ner/vi-ner.xz  \n",
            " extracting: VnCoreNLP-1.1.1/models/ner/vi-pretrainedembeddings.xz  \n",
            "   creating: VnCoreNLP-1.1.1/models/postagger/\n",
            " extracting: VnCoreNLP-1.1.1/models/postagger/vi-tagger  \n",
            "   creating: VnCoreNLP-1.1.1/models/wordsegmenter/\n",
            "  inflating: VnCoreNLP-1.1.1/models/wordsegmenter/vi-vocab  \n",
            "  inflating: VnCoreNLP-1.1.1/models/wordsegmenter/wordsegmenter.rdr  \n",
            "  inflating: VnCoreNLP-1.1.1/pom.xml  \n",
            "   creating: VnCoreNLP-1.1.1/src/\n",
            "   creating: VnCoreNLP-1.1.1/src/main/\n",
            "   creating: VnCoreNLP-1.1.1/src/main/java/\n",
            "   creating: VnCoreNLP-1.1.1/src/main/java/vn/\n",
            "   creating: VnCoreNLP-1.1.1/src/main/java/vn/corenlp/\n",
            "   creating: VnCoreNLP-1.1.1/src/main/java/vn/corenlp/ner/\n",
            "  inflating: VnCoreNLP-1.1.1/src/main/java/vn/corenlp/ner/NerRecognizer.java  \n",
            "   creating: VnCoreNLP-1.1.1/src/main/java/vn/corenlp/parser/\n",
            "  inflating: VnCoreNLP-1.1.1/src/main/java/vn/corenlp/parser/DependencyParser.java  \n",
            "   creating: VnCoreNLP-1.1.1/src/main/java/vn/corenlp/postagger/\n",
            "  inflating: VnCoreNLP-1.1.1/src/main/java/vn/corenlp/postagger/PosTagger.java  \n",
            "   creating: VnCoreNLP-1.1.1/src/main/java/vn/corenlp/tokenizer/\n",
            "  inflating: VnCoreNLP-1.1.1/src/main/java/vn/corenlp/tokenizer/StringUtils.java  \n",
            "  inflating: VnCoreNLP-1.1.1/src/main/java/vn/corenlp/tokenizer/Tokenizer.java  \n",
            "   creating: VnCoreNLP-1.1.1/src/main/java/vn/corenlp/wordsegmenter/\n",
            "  inflating: VnCoreNLP-1.1.1/src/main/java/vn/corenlp/wordsegmenter/FWObject.java  \n",
            "  inflating: VnCoreNLP-1.1.1/src/main/java/vn/corenlp/wordsegmenter/Node.java  \n",
            "  inflating: VnCoreNLP-1.1.1/src/main/java/vn/corenlp/wordsegmenter/Utils.java  \n",
            "  inflating: VnCoreNLP-1.1.1/src/main/java/vn/corenlp/wordsegmenter/Vocabulary.java  \n",
            "  inflating: VnCoreNLP-1.1.1/src/main/java/vn/corenlp/wordsegmenter/WordSegmenter.java  \n",
            "  inflating: VnCoreNLP-1.1.1/src/main/java/vn/corenlp/wordsegmenter/WordTag.java  \n",
            "   creating: VnCoreNLP-1.1.1/src/main/java/vn/pipeline/\n",
            "  inflating: VnCoreNLP-1.1.1/src/main/java/vn/pipeline/Annotation.java  \n",
            "  inflating: VnCoreNLP-1.1.1/src/main/java/vn/pipeline/LexicalInitializer.java  \n",
            "  inflating: VnCoreNLP-1.1.1/src/main/java/vn/pipeline/Sentence.java  \n",
            "  inflating: VnCoreNLP-1.1.1/src/main/java/vn/pipeline/Utils.java  \n",
            "  inflating: VnCoreNLP-1.1.1/src/main/java/vn/pipeline/VnCoreNLP.java  \n",
            "  inflating: VnCoreNLP-1.1.1/src/main/java/vn/pipeline/Word.java  \n",
            "   creating: VnCoreNLP-1.1.1/src/main/resources/\n",
            "  inflating: VnCoreNLP-1.1.1/src/main/resources/log4j.properties  \n",
            "   creating: VnCoreNLP-1.1.1/src/test/\n",
            "   creating: VnCoreNLP-1.1.1/src/test/java/\n",
            "  inflating: VnCoreNLP-1.1.1/src/test/java/VnCoreNLPExample.java  \n",
            "rm: cannot remove './models.$.': No such file or directory\n"
          ],
          "name": "stdout"
        }
      ]
    },
    {
      "cell_type": "markdown",
      "metadata": {
        "id": "p0SFRIZMc7Gz"
      },
      "source": [
        "## Read and write pickle function"
      ]
    },
    {
      "cell_type": "code",
      "metadata": {
        "colab": {
          "base_uri": "https://localhost:8080/"
        },
        "id": "TfioNwu1oTbj",
        "outputId": "eeea7fbd-b022-4310-deaa-3b58b7f34a02"
      },
      "source": [
        "def read_all_csv(dir):\n",
        "    ls_df = []\n",
        "    for data in os.listdir(dir):\n",
        "        print(data)\n",
        "        # try:\n",
        "        df = pd.read_csv(dir + data)\n",
        "        ls_df.append(df)\n",
        "        # except:\n",
        "            # pass\n",
        "\n",
        "    final_df = pd.concat(ls_df)\n",
        "    final_df.drop_duplicates('content', inplace = True)\n",
        "    return final_df\n",
        "\n",
        "df_1 = read_all_csv('./1/')\n",
        "df_0 = read_all_csv('./0/')\n",
        "\n",
        "df = pd.concat([df_1, df_0])"
      ],
      "execution_count": 7,
      "outputs": [
        {
          "output_type": "stream",
          "text": [
            "giaochucchuvanan.csv\n",
            "sbtn.csv\n",
            "thanhnienconggiao.csv\n",
            "phamminhvu.csv\n",
            "khoi8406.csv\n",
            "rfa_fixed.csv\n",
            "viettan.csv\n",
            "viettan_fb.csv\n",
            "bpsos.csv\n",
            "chantroimoi.csv\n",
            "tinnoichinh.csv\n",
            "vnexpress_1.csv\n",
            "vnexpress_2.csv\n",
            "vnexpress_0.csv\n"
          ],
          "name": "stdout"
        }
      ]
    },
    {
      "cell_type": "code",
      "metadata": {
        "id": "Hr87gpbElDCR"
      },
      "source": [
        "df = df[df['avg_length'] < 20000]"
      ],
      "execution_count": 8,
      "outputs": []
    },
    {
      "cell_type": "markdown",
      "metadata": {
        "id": "gtz08-qSAO6t"
      },
      "source": [
        "# Remove abbreviation + teencode"
      ]
    },
    {
      "cell_type": "markdown",
      "metadata": {
        "id": "MIXhQtJsdAVu"
      },
      "source": [
        "## Read csv"
      ]
    },
    {
      "cell_type": "code",
      "metadata": {
        "colab": {
          "base_uri": "https://localhost:8080/",
          "height": 195
        },
        "id": "Cwgh0qS2AXiD",
        "outputId": "a59b4892-c162-41c3-8a2a-b2931d8b1bdc"
      },
      "source": [
        "abbreviation = pd.read_csv('./resources/abbreviation.csv')\n",
        "abbreviation = abbreviation[['viet tat_x', 'mean']]\n",
        "abbreviation.head()"
      ],
      "execution_count": 9,
      "outputs": [
        {
          "output_type": "execute_result",
          "data": {
            "text/html": [
              "<div>\n",
              "<style scoped>\n",
              "    .dataframe tbody tr th:only-of-type {\n",
              "        vertical-align: middle;\n",
              "    }\n",
              "\n",
              "    .dataframe tbody tr th {\n",
              "        vertical-align: top;\n",
              "    }\n",
              "\n",
              "    .dataframe thead th {\n",
              "        text-align: right;\n",
              "    }\n",
              "</style>\n",
              "<table border=\"1\" class=\"dataframe\">\n",
              "  <thead>\n",
              "    <tr style=\"text-align: right;\">\n",
              "      <th></th>\n",
              "      <th>viet tat_x</th>\n",
              "      <th>mean</th>\n",
              "    </tr>\n",
              "  </thead>\n",
              "  <tbody>\n",
              "    <tr>\n",
              "      <th>0</th>\n",
              "      <td>ABC</td>\n",
              "      <td>Công ty Truyền thông ABC</td>\n",
              "    </tr>\n",
              "    <tr>\n",
              "      <th>1</th>\n",
              "      <td>ADB</td>\n",
              "      <td>Ngân hàng Phát triển châu Á</td>\n",
              "    </tr>\n",
              "    <tr>\n",
              "      <th>2</th>\n",
              "      <td>ADN</td>\n",
              "      <td>AND</td>\n",
              "    </tr>\n",
              "    <tr>\n",
              "      <th>3</th>\n",
              "      <td>ANĐT</td>\n",
              "      <td>an ninh điều tra</td>\n",
              "    </tr>\n",
              "    <tr>\n",
              "      <th>4</th>\n",
              "      <td>ATGT</td>\n",
              "      <td>An toàn Giao thông</td>\n",
              "    </tr>\n",
              "  </tbody>\n",
              "</table>\n",
              "</div>"
            ],
            "text/plain": [
              "  viet tat_x                         mean\n",
              "0        ABC     Công ty Truyền thông ABC\n",
              "1        ADB  Ngân hàng Phát triển châu Á\n",
              "2        ADN                          AND\n",
              "3       ANĐT             an ninh điều tra\n",
              "4       ATGT           An toàn Giao thông"
            ]
          },
          "metadata": {
            "tags": []
          },
          "execution_count": 9
        }
      ]
    },
    {
      "cell_type": "markdown",
      "metadata": {
        "id": "u4PgIpsDdDqC"
      },
      "source": [
        "## Add them tu khoa"
      ]
    },
    {
      "cell_type": "code",
      "metadata": {
        "id": "eyHljSZpAqzK"
      },
      "source": [
        "abbreviation = dict(zip(abbreviation['viet tat_x'], abbreviation['mean']))\n",
        "\n",
        "abbreviation['csvn'] = 'Cộng sản Việt Nam'\n",
        "abbreviation['đcsvn'] = 'Đảng Cộng sản Việt Nam'\n",
        "abbreviation['xhcn'] = 'Xã hội Chủ nghĩa'\n",
        "abbreviation['cntb'] = 'Chủ nghĩa Tư bản'\n",
        "abbreviation['cs'] = 'Cộng sản'"
      ],
      "execution_count": 10,
      "outputs": []
    },
    {
      "cell_type": "markdown",
      "metadata": {
        "id": "00eRoVd1dKY2"
      },
      "source": [
        "## Replace key - value"
      ]
    },
    {
      "cell_type": "code",
      "metadata": {
        "colab": {
          "base_uri": "https://localhost:8080/"
        },
        "id": "D34NLwXUAql_",
        "outputId": "75649c83-f0a0-4042-8ed4-2fbcc3783977"
      },
      "source": [
        "def replace_non_case(df):\n",
        "    count = 0\n",
        "    for pat, repl in abbreviation.items():\n",
        "        df['content'] = df['content'].str.replace(pat, repl, case = False, regex = False)\n",
        "        \n",
        "        # Progress printing\n",
        "        if count % 10 == 0:\n",
        "            print(f\"count: {count}\")\n",
        "        count += 1\n",
        "    \n",
        "\n",
        "    return df\n",
        "\n",
        "temp = df.copy()\n",
        "temp = replace_non_case(temp)"
      ],
      "execution_count": 11,
      "outputs": [
        {
          "output_type": "stream",
          "text": [
            "count: 0\n",
            "count: 10\n",
            "count: 20\n",
            "count: 30\n",
            "count: 40\n",
            "count: 50\n",
            "count: 60\n",
            "count: 70\n",
            "count: 80\n",
            "count: 90\n",
            "count: 100\n",
            "count: 110\n",
            "count: 120\n",
            "count: 130\n",
            "count: 140\n",
            "count: 150\n",
            "count: 160\n",
            "count: 170\n",
            "count: 180\n",
            "count: 190\n",
            "count: 200\n",
            "count: 210\n",
            "count: 220\n",
            "count: 230\n",
            "count: 240\n",
            "count: 250\n",
            "count: 260\n",
            "count: 270\n",
            "count: 280\n",
            "count: 290\n",
            "count: 300\n",
            "count: 310\n",
            "count: 320\n",
            "count: 330\n",
            "count: 340\n",
            "count: 350\n",
            "count: 360\n",
            "count: 370\n",
            "count: 380\n",
            "count: 390\n",
            "count: 400\n",
            "count: 410\n",
            "count: 420\n",
            "count: 430\n",
            "count: 440\n",
            "count: 450\n",
            "count: 460\n",
            "count: 470\n",
            "count: 480\n",
            "count: 490\n",
            "count: 500\n",
            "count: 510\n",
            "count: 520\n",
            "count: 530\n",
            "count: 540\n",
            "count: 550\n",
            "count: 560\n",
            "count: 570\n",
            "count: 580\n",
            "count: 590\n",
            "count: 600\n",
            "count: 610\n",
            "count: 620\n",
            "count: 630\n",
            "count: 640\n",
            "count: 650\n",
            "count: 660\n",
            "count: 670\n",
            "count: 680\n",
            "count: 690\n",
            "count: 700\n",
            "count: 710\n",
            "count: 720\n",
            "count: 730\n",
            "count: 740\n",
            "count: 750\n",
            "count: 760\n",
            "count: 770\n",
            "count: 780\n",
            "count: 790\n",
            "count: 800\n",
            "count: 810\n",
            "count: 820\n",
            "count: 830\n"
          ],
          "name": "stdout"
        }
      ]
    },
    {
      "cell_type": "markdown",
      "metadata": {
        "id": "kFtNSi8DkWgb"
      },
      "source": [
        "## Số dòng được thay thế từ viết tắt"
      ]
    },
    {
      "cell_type": "code",
      "metadata": {
        "colab": {
          "base_uri": "https://localhost:8080/"
        },
        "id": "4iIaJN4wde3v",
        "outputId": "25541db6-b883-4af0-97a0-c82a4ae0058b"
      },
      "source": [
        "sum(temp['content'] != df['content'])"
      ],
      "execution_count": 12,
      "outputs": [
        {
          "output_type": "execute_result",
          "data": {
            "text/plain": [
              "35973"
            ]
          },
          "metadata": {
            "tags": []
          },
          "execution_count": 12
        }
      ]
    },
    {
      "cell_type": "markdown",
      "metadata": {
        "id": "fCDsXXmkll94"
      },
      "source": [
        "## Save as csv"
      ]
    },
    {
      "cell_type": "code",
      "metadata": {
        "id": "5UjnHsAIdyW-"
      },
      "source": [
        "# df = temp\n",
        "temp.to_csv('df_abv.csv')"
      ],
      "execution_count": 14,
      "outputs": []
    },
    {
      "cell_type": "code",
      "metadata": {
        "id": "3JPu6Qrykl8_"
      },
      "source": [
        "df = temp"
      ],
      "execution_count": 15,
      "outputs": []
    },
    {
      "cell_type": "markdown",
      "metadata": {
        "id": "HSNDMlkDAUMU"
      },
      "source": [
        "# Word segmentation"
      ]
    },
    {
      "cell_type": "code",
      "metadata": {
        "id": "8_T94Ayl3cQm"
      },
      "source": [
        "from vncorenlp import VnCoreNLP\n",
        "\n",
        "VNCOR = './VnCoreNLP-1.1.1/VnCoreNLP-1.1.1.jar'\n",
        "segmenter = VnCoreNLP(VNCOR, annotators= 'wseg')"
      ],
      "execution_count": 21,
      "outputs": []
    },
    {
      "cell_type": "code",
      "metadata": {
        "colab": {
          "base_uri": "https://localhost:8080/",
          "height": 65,
          "referenced_widgets": [
            "96b6a848d1cd4eb7810864f126faf6e2",
            "a13c53e549194053a38fb73d231927c1",
            "5f79193f1c314289b229b20a36d3dc43",
            "eca09f563cbe4164986a3895e6c9f1bd",
            "4cf5c547c80140819fc0ea145ad526c0",
            "b7b8e5c49a3a435ba74045e588e054bf",
            "1d1085fceee648f7af9bc16d4a83f443",
            "b8a9c214d4a049cd8d9a903674c2590c"
          ]
        },
        "id": "Ic6saj_q6BXp",
        "outputId": "f7e16575-88a2-4a6e-db55-a75062fa4ad6"
      },
      "source": [
        "# txt = 'học sinh học sinh học'\n",
        "# print(segmenter.tokenize(txt))\n",
        "\n",
        "\n",
        "\n",
        "def sen_word_seg(sample):\n",
        "    \"\"\" Viblo - phoBERT \"\"\"\n",
        "    \n",
        "    splits = sample.strip().split('\\n')\n",
        "    text = ' '.join(splits)\n",
        "\n",
        "    # return\n",
        "    text = segmenter.tokenize(text)\n",
        "    text = ' '.join([' '.join(x) for x in text])\n",
        "    \n",
        "    return text\n",
        "\n",
        "\n",
        "df['sen_word_seg'] = df['content'].progress_apply(sen_word_seg)"
      ],
      "execution_count": 22,
      "outputs": [
        {
          "output_type": "display_data",
          "data": {
            "application/vnd.jupyter.widget-view+json": {
              "model_id": "96b6a848d1cd4eb7810864f126faf6e2",
              "version_minor": 0,
              "version_major": 2
            },
            "text/plain": [
              "HBox(children=(FloatProgress(value=0.0, max=49517.0), HTML(value='')))"
            ]
          },
          "metadata": {
            "tags": []
          }
        },
        {
          "output_type": "stream",
          "text": [
            "\n"
          ],
          "name": "stdout"
        }
      ]
    },
    {
      "cell_type": "markdown",
      "metadata": {
        "id": "8jq6TtOiwj5y"
      },
      "source": [
        "## Save to csv"
      ]
    },
    {
      "cell_type": "code",
      "metadata": {
        "id": "dL5TblFqwKWh"
      },
      "source": [
        "df.to_csv('preprocessed.csv')"
      ],
      "execution_count": 23,
      "outputs": []
    }
  ]
}