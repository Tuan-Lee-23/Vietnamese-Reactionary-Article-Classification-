{
  "nbformat": 4,
  "nbformat_minor": 0,
  "metadata": {
    "colab": {
      "name": "Preprocessing p2.ipynb",
      "provenance": [],
      "collapsed_sections": []
    },
    "kernelspec": {
      "name": "python3",
      "display_name": "Python 3"
    },
    "language_info": {
      "name": "python"
    },
    "widgets": {
      "application/vnd.jupyter.widget-state+json": {
        "0f0cd1968653409eb6aa2328c23c36c4": {
          "model_module": "@jupyter-widgets/controls",
          "model_name": "HBoxModel",
          "state": {
            "_view_name": "HBoxView",
            "_dom_classes": [],
            "_model_name": "HBoxModel",
            "_view_module": "@jupyter-widgets/controls",
            "_model_module_version": "1.5.0",
            "_view_count": null,
            "_view_module_version": "1.5.0",
            "box_style": "",
            "layout": "IPY_MODEL_b067e48cc3b44107a18bff2534835a2c",
            "_model_module": "@jupyter-widgets/controls",
            "children": [
              "IPY_MODEL_d0c5dac8756b4fff94ba61e5b6b699fa",
              "IPY_MODEL_ba923f3c483e4fd5aec6ca123fff5c98"
            ]
          }
        },
        "b067e48cc3b44107a18bff2534835a2c": {
          "model_module": "@jupyter-widgets/base",
          "model_name": "LayoutModel",
          "state": {
            "_view_name": "LayoutView",
            "grid_template_rows": null,
            "right": null,
            "justify_content": null,
            "_view_module": "@jupyter-widgets/base",
            "overflow": null,
            "_model_module_version": "1.2.0",
            "_view_count": null,
            "flex_flow": null,
            "width": null,
            "min_width": null,
            "border": null,
            "align_items": null,
            "bottom": null,
            "_model_module": "@jupyter-widgets/base",
            "top": null,
            "grid_column": null,
            "overflow_y": null,
            "overflow_x": null,
            "grid_auto_flow": null,
            "grid_area": null,
            "grid_template_columns": null,
            "flex": null,
            "_model_name": "LayoutModel",
            "justify_items": null,
            "grid_row": null,
            "max_height": null,
            "align_content": null,
            "visibility": null,
            "align_self": null,
            "height": null,
            "min_height": null,
            "padding": null,
            "grid_auto_rows": null,
            "grid_gap": null,
            "max_width": null,
            "order": null,
            "_view_module_version": "1.2.0",
            "grid_template_areas": null,
            "object_position": null,
            "object_fit": null,
            "grid_auto_columns": null,
            "margin": null,
            "display": null,
            "left": null
          }
        },
        "d0c5dac8756b4fff94ba61e5b6b699fa": {
          "model_module": "@jupyter-widgets/controls",
          "model_name": "FloatProgressModel",
          "state": {
            "_view_name": "ProgressView",
            "style": "IPY_MODEL_1f3d1d6843744ba7b95109a9c595f854",
            "_dom_classes": [],
            "description": "100%",
            "_model_name": "FloatProgressModel",
            "bar_style": "success",
            "max": 49517,
            "_view_module": "@jupyter-widgets/controls",
            "_model_module_version": "1.5.0",
            "value": 49517,
            "_view_count": null,
            "_view_module_version": "1.5.0",
            "orientation": "horizontal",
            "min": 0,
            "description_tooltip": null,
            "_model_module": "@jupyter-widgets/controls",
            "layout": "IPY_MODEL_9882b35182db42318cfca4300b44d175"
          }
        },
        "ba923f3c483e4fd5aec6ca123fff5c98": {
          "model_module": "@jupyter-widgets/controls",
          "model_name": "HTMLModel",
          "state": {
            "_view_name": "HTMLView",
            "style": "IPY_MODEL_656707617b9b408e800c0171c77e8719",
            "_dom_classes": [],
            "description": "",
            "_model_name": "HTMLModel",
            "placeholder": "​",
            "_view_module": "@jupyter-widgets/controls",
            "_model_module_version": "1.5.0",
            "value": " 49517/49517 [16:29&lt;00:00, 50.04it/s]",
            "_view_count": null,
            "_view_module_version": "1.5.0",
            "description_tooltip": null,
            "_model_module": "@jupyter-widgets/controls",
            "layout": "IPY_MODEL_d9fa29e1dd654a71badd795040e99ea2"
          }
        },
        "1f3d1d6843744ba7b95109a9c595f854": {
          "model_module": "@jupyter-widgets/controls",
          "model_name": "ProgressStyleModel",
          "state": {
            "_view_name": "StyleView",
            "_model_name": "ProgressStyleModel",
            "description_width": "initial",
            "_view_module": "@jupyter-widgets/base",
            "_model_module_version": "1.5.0",
            "_view_count": null,
            "_view_module_version": "1.2.0",
            "bar_color": null,
            "_model_module": "@jupyter-widgets/controls"
          }
        },
        "9882b35182db42318cfca4300b44d175": {
          "model_module": "@jupyter-widgets/base",
          "model_name": "LayoutModel",
          "state": {
            "_view_name": "LayoutView",
            "grid_template_rows": null,
            "right": null,
            "justify_content": null,
            "_view_module": "@jupyter-widgets/base",
            "overflow": null,
            "_model_module_version": "1.2.0",
            "_view_count": null,
            "flex_flow": null,
            "width": null,
            "min_width": null,
            "border": null,
            "align_items": null,
            "bottom": null,
            "_model_module": "@jupyter-widgets/base",
            "top": null,
            "grid_column": null,
            "overflow_y": null,
            "overflow_x": null,
            "grid_auto_flow": null,
            "grid_area": null,
            "grid_template_columns": null,
            "flex": null,
            "_model_name": "LayoutModel",
            "justify_items": null,
            "grid_row": null,
            "max_height": null,
            "align_content": null,
            "visibility": null,
            "align_self": null,
            "height": null,
            "min_height": null,
            "padding": null,
            "grid_auto_rows": null,
            "grid_gap": null,
            "max_width": null,
            "order": null,
            "_view_module_version": "1.2.0",
            "grid_template_areas": null,
            "object_position": null,
            "object_fit": null,
            "grid_auto_columns": null,
            "margin": null,
            "display": null,
            "left": null
          }
        },
        "656707617b9b408e800c0171c77e8719": {
          "model_module": "@jupyter-widgets/controls",
          "model_name": "DescriptionStyleModel",
          "state": {
            "_view_name": "StyleView",
            "_model_name": "DescriptionStyleModel",
            "description_width": "",
            "_view_module": "@jupyter-widgets/base",
            "_model_module_version": "1.5.0",
            "_view_count": null,
            "_view_module_version": "1.2.0",
            "_model_module": "@jupyter-widgets/controls"
          }
        },
        "d9fa29e1dd654a71badd795040e99ea2": {
          "model_module": "@jupyter-widgets/base",
          "model_name": "LayoutModel",
          "state": {
            "_view_name": "LayoutView",
            "grid_template_rows": null,
            "right": null,
            "justify_content": null,
            "_view_module": "@jupyter-widgets/base",
            "overflow": null,
            "_model_module_version": "1.2.0",
            "_view_count": null,
            "flex_flow": null,
            "width": null,
            "min_width": null,
            "border": null,
            "align_items": null,
            "bottom": null,
            "_model_module": "@jupyter-widgets/base",
            "top": null,
            "grid_column": null,
            "overflow_y": null,
            "overflow_x": null,
            "grid_auto_flow": null,
            "grid_area": null,
            "grid_template_columns": null,
            "flex": null,
            "_model_name": "LayoutModel",
            "justify_items": null,
            "grid_row": null,
            "max_height": null,
            "align_content": null,
            "visibility": null,
            "align_self": null,
            "height": null,
            "min_height": null,
            "padding": null,
            "grid_auto_rows": null,
            "grid_gap": null,
            "max_width": null,
            "order": null,
            "_view_module_version": "1.2.0",
            "grid_template_areas": null,
            "object_position": null,
            "object_fit": null,
            "grid_auto_columns": null,
            "margin": null,
            "display": null,
            "left": null
          }
        }
      }
    }
  },
  "cells": [
    {
      "cell_type": "markdown",
      "metadata": {
        "id": "yB0suT23oChI"
      },
      "source": [
        "# Import libs"
      ]
    },
    {
      "cell_type": "code",
      "metadata": {
        "colab": {
          "base_uri": "https://localhost:8080/"
        },
        "id": "c8bN0fcFoJW_",
        "outputId": "1d235531-8d6e-417f-a72b-048b2f873be2"
      },
      "source": [
        "import re\n",
        "import seaborn as sns\n",
        "import os \n",
        "import pandas as pd \n",
        "import numpy as np\n",
        "import matplotlib.pyplot as plt \n",
        "from tqdm.notebook import tqdm\n",
        "import pickle\n",
        "import plotly.express as px\n",
        "import plotly.figure_factory as ff\n",
        "from matplotlib import rcParams\n",
        "\n",
        "tqdm.pandas()\n",
        "\n",
        "sns.set_theme()\n",
        "rcParams['figure.figsize'] = 15,8"
      ],
      "execution_count": 1,
      "outputs": [
        {
          "output_type": "stream",
          "text": [
            "/usr/local/lib/python3.7/dist-packages/tqdm/std.py:658: FutureWarning:\n",
            "\n",
            "The Panel class is removed from pandas. Accessing it from the top-level namespace will also be removed in the next version\n",
            "\n"
          ],
          "name": "stderr"
        }
      ]
    },
    {
      "cell_type": "code",
      "metadata": {
        "colab": {
          "base_uri": "https://localhost:8080/"
        },
        "id": "niM-ughTQJPE",
        "outputId": "590b65e9-e30c-4a99-bec0-8aee26549510"
      },
      "source": [
        "!pip install vncorenlp"
      ],
      "execution_count": 2,
      "outputs": [
        {
          "output_type": "stream",
          "text": [
            "Requirement already satisfied: vncorenlp in /usr/local/lib/python3.7/dist-packages (1.0.3)\n",
            "Requirement already satisfied: requests in /usr/local/lib/python3.7/dist-packages (from vncorenlp) (2.23.0)\n",
            "Requirement already satisfied: idna<3,>=2.5 in /usr/local/lib/python3.7/dist-packages (from requests->vncorenlp) (2.10)\n",
            "Requirement already satisfied: certifi>=2017.4.17 in /usr/local/lib/python3.7/dist-packages (from requests->vncorenlp) (2021.5.30)\n",
            "Requirement already satisfied: urllib3!=1.25.0,!=1.25.1,<1.26,>=1.21.1 in /usr/local/lib/python3.7/dist-packages (from requests->vncorenlp) (1.24.3)\n",
            "Requirement already satisfied: chardet<4,>=3.0.2 in /usr/local/lib/python3.7/dist-packages (from requests->vncorenlp) (3.0.4)\n"
          ],
          "name": "stdout"
        }
      ]
    },
    {
      "cell_type": "markdown",
      "metadata": {
        "id": "6okGYV70oLKR"
      },
      "source": [
        "# Git clone"
      ]
    },
    {
      "cell_type": "code",
      "metadata": {
        "colab": {
          "base_uri": "https://localhost:8080/"
        },
        "id": "LevAhqFaoPz9",
        "outputId": "77192430-9881-450e-cd25-39a76b04d136"
      },
      "source": [
        "# Clone the entire repo.\n",
        "!git clone https://github.com/Tuan-Lee-23/Vietnamese-Reactionary-Article-Classification-.git\n",
        "%cd Vietnamese-Reactionary-Article-Classification-/\n",
        "!ls"
      ],
      "execution_count": 3,
      "outputs": [
        {
          "output_type": "stream",
          "text": [
            "fatal: destination path 'Vietnamese-Reactionary-Article-Classification-' already exists and is not an empty directory.\n",
            "/content/Vietnamese-Reactionary-Article-Classification-\n",
            "analysis  data\tdemo  modeling\tREADME.md\n"
          ],
          "name": "stdout"
        }
      ]
    },
    {
      "cell_type": "markdown",
      "metadata": {
        "id": "2H1LyJPQovtt"
      },
      "source": [
        "# Read pickles"
      ]
    },
    {
      "cell_type": "code",
      "metadata": {
        "colab": {
          "base_uri": "https://localhost:8080/"
        },
        "id": "vsg3fWN2oz5L",
        "outputId": "b4fdc8f9-944d-400b-e19e-20e00b9fef4c"
      },
      "source": [
        "%cd data/preprocessed/\n",
        "! wget 'https://github.com/vncorenlp/VnCoreNLP/archive/v1.1.1.zip' -O ./models.$$ && unzip -o ./models.$$ && rm -r ./models.$$."
      ],
      "execution_count": 4,
      "outputs": [
        {
          "output_type": "stream",
          "text": [
            "/content/Vietnamese-Reactionary-Article-Classification-/data/preprocessed\n",
            "--2021-07-28 13:59:46--  https://github.com/vncorenlp/VnCoreNLP/archive/v1.1.1.zip\n",
            "Resolving github.com (github.com)... 192.30.255.113\n",
            "Connecting to github.com (github.com)|192.30.255.113|:443... connected.\n",
            "HTTP request sent, awaiting response... 302 Found\n",
            "Location: https://codeload.github.com/vncorenlp/VnCoreNLP/zip/v1.1.1 [following]\n",
            "--2021-07-28 13:59:46--  https://codeload.github.com/vncorenlp/VnCoreNLP/zip/v1.1.1\n",
            "Resolving codeload.github.com (codeload.github.com)... 140.82.114.9\n",
            "Connecting to codeload.github.com (codeload.github.com)|140.82.114.9|:443... connected.\n",
            "HTTP request sent, awaiting response... 200 OK\n",
            "Length: 143955573 (137M) [application/zip]\n",
            "Saving to: ‘./models.201’\n",
            "\n",
            "./models.201        100%[===================>] 137.29M  39.1MB/s    in 3.5s    \n",
            "\n",
            "2021-07-28 13:59:50 (39.1 MB/s) - ‘./models.201’ saved [143955573/143955573]\n",
            "\n",
            "Archive:  ./models.201\n",
            "3b5c2aac53bb1fda0502d89ab8085b712e299fab\n",
            "  inflating: VnCoreNLP-1.1.1/LICENSE.md  \n",
            "  inflating: VnCoreNLP-1.1.1/Readme.md  \n",
            "  inflating: VnCoreNLP-1.1.1/TagsetDescription.md  \n",
            "  inflating: VnCoreNLP-1.1.1/VLSP2013_POS_tagset.pdf  \n",
            "  inflating: VnCoreNLP-1.1.1/VnCoreNLP-1.1.1.jar  \n",
            "  inflating: VnCoreNLP-1.1.1/VnDT-treebank-description.pdf  \n",
            " extracting: VnCoreNLP-1.1.1/models/dep/vi-dep.xz  \n",
            " extracting: VnCoreNLP-1.1.1/models/ner/vi-500brownclusters.xz  \n",
            " extracting: VnCoreNLP-1.1.1/models/ner/vi-ner.xz  \n",
            " extracting: VnCoreNLP-1.1.1/models/ner/vi-pretrainedembeddings.xz  \n",
            " extracting: VnCoreNLP-1.1.1/models/postagger/vi-tagger  \n",
            "  inflating: VnCoreNLP-1.1.1/models/wordsegmenter/vi-vocab  \n",
            "  inflating: VnCoreNLP-1.1.1/models/wordsegmenter/wordsegmenter.rdr  \n",
            "  inflating: VnCoreNLP-1.1.1/pom.xml  \n",
            "  inflating: VnCoreNLP-1.1.1/src/main/java/vn/corenlp/ner/NerRecognizer.java  \n",
            "  inflating: VnCoreNLP-1.1.1/src/main/java/vn/corenlp/parser/DependencyParser.java  \n",
            "  inflating: VnCoreNLP-1.1.1/src/main/java/vn/corenlp/postagger/PosTagger.java  \n",
            "  inflating: VnCoreNLP-1.1.1/src/main/java/vn/corenlp/tokenizer/StringUtils.java  \n",
            "  inflating: VnCoreNLP-1.1.1/src/main/java/vn/corenlp/tokenizer/Tokenizer.java  \n",
            "  inflating: VnCoreNLP-1.1.1/src/main/java/vn/corenlp/wordsegmenter/FWObject.java  \n",
            "  inflating: VnCoreNLP-1.1.1/src/main/java/vn/corenlp/wordsegmenter/Node.java  \n",
            "  inflating: VnCoreNLP-1.1.1/src/main/java/vn/corenlp/wordsegmenter/Utils.java  \n",
            "  inflating: VnCoreNLP-1.1.1/src/main/java/vn/corenlp/wordsegmenter/Vocabulary.java  \n",
            "  inflating: VnCoreNLP-1.1.1/src/main/java/vn/corenlp/wordsegmenter/WordSegmenter.java  \n",
            "  inflating: VnCoreNLP-1.1.1/src/main/java/vn/corenlp/wordsegmenter/WordTag.java  \n",
            "  inflating: VnCoreNLP-1.1.1/src/main/java/vn/pipeline/Annotation.java  \n",
            "  inflating: VnCoreNLP-1.1.1/src/main/java/vn/pipeline/LexicalInitializer.java  \n",
            "  inflating: VnCoreNLP-1.1.1/src/main/java/vn/pipeline/Sentence.java  \n",
            "  inflating: VnCoreNLP-1.1.1/src/main/java/vn/pipeline/Utils.java  \n",
            "  inflating: VnCoreNLP-1.1.1/src/main/java/vn/pipeline/VnCoreNLP.java  \n",
            "  inflating: VnCoreNLP-1.1.1/src/main/java/vn/pipeline/Word.java  \n",
            "  inflating: VnCoreNLP-1.1.1/src/main/resources/log4j.properties  \n",
            "  inflating: VnCoreNLP-1.1.1/src/test/java/VnCoreNLPExample.java  \n",
            "rm: cannot remove './models.$.': No such file or directory\n"
          ],
          "name": "stdout"
        }
      ]
    },
    {
      "cell_type": "markdown",
      "metadata": {
        "id": "p0SFRIZMc7Gz"
      },
      "source": [
        "## Read and write pickle function"
      ]
    },
    {
      "cell_type": "code",
      "metadata": {
        "colab": {
          "base_uri": "https://localhost:8080/"
        },
        "id": "TfioNwu1oTbj",
        "outputId": "91e17998-f91c-468b-d0e8-407e1f8590ac"
      },
      "source": [
        "def read_all_csv(dir):\n",
        "    ls_df = []\n",
        "    for data in os.listdir(dir):\n",
        "        print(data)\n",
        "        # try:\n",
        "        df = pd.read_csv(dir + data)\n",
        "        ls_df.append(df)\n",
        "        # except:\n",
        "            # pass\n",
        "\n",
        "    final_df = pd.concat(ls_df)\n",
        "    final_df.drop_duplicates('content', inplace = True)\n",
        "    return final_df\n",
        "\n",
        "df_1 = read_all_csv('./1/')\n",
        "df_0 = read_all_csv('./0/')\n",
        "\n",
        "df = pd.concat([df_1, df_0])"
      ],
      "execution_count": 5,
      "outputs": [
        {
          "output_type": "stream",
          "text": [
            "sbtn.csv\n",
            "phamminhvu.csv\n",
            "khoi8406.csv\n",
            "thanhnienconggiao.csv\n",
            "chantroimoi.csv\n",
            "giaochucchuvanan.csv\n",
            "rfa_fixed.csv\n",
            "viettan_fb.csv\n",
            "bpsos.csv\n",
            "viettan.csv\n",
            "vnexpress_1.csv\n",
            "vnexpress_0.csv\n",
            "vnexpress_2.csv\n",
            "tinnoichinh.csv\n"
          ],
          "name": "stdout"
        }
      ]
    },
    {
      "cell_type": "code",
      "metadata": {
        "id": "Hr87gpbElDCR"
      },
      "source": [
        "df = df[df['avg_length'] < 20000]"
      ],
      "execution_count": 6,
      "outputs": []
    },
    {
      "cell_type": "markdown",
      "metadata": {
        "id": "gtz08-qSAO6t"
      },
      "source": [
        "# Remove abbreviation + teencode"
      ]
    },
    {
      "cell_type": "markdown",
      "metadata": {
        "id": "MIXhQtJsdAVu"
      },
      "source": [
        "## Read csv"
      ]
    },
    {
      "cell_type": "code",
      "metadata": {
        "id": "Cwgh0qS2AXiD"
      },
      "source": [
        "abbreviation = pd.read_csv('./resources/abbreviation.csv')\n",
        "abbreviation = abbreviation[['viet tat_x', 'mean']]\n",
        "abbreviation['len'] = abbreviation['mean'].apply(lambda x: len(x.split()))\n",
        "abbreviation = abbreviation[abbreviation['len'] > 2]"
      ],
      "execution_count": 7,
      "outputs": []
    },
    {
      "cell_type": "markdown",
      "metadata": {
        "id": "u4PgIpsDdDqC"
      },
      "source": [
        "## Add them tu khoa"
      ]
    },
    {
      "cell_type": "code",
      "metadata": {
        "id": "eyHljSZpAqzK"
      },
      "source": [
        "abbreviation = dict(zip(abbreviation['viet tat_x'], abbreviation['mean']))\n",
        "\n",
        "abbreviation['csvn'] = 'Cộng sản Việt Nam'\n",
        "abbreviation['đcsvn'] = 'Đảng Cộng sản Việt Nam'\n",
        "abbreviation['xhcn'] = 'Xã hội Chủ nghĩa'\n",
        "abbreviation['cntb'] = 'Chủ nghĩa Tư bản'\n",
        "abbreviation['cs'] = 'Cộng sản'"
      ],
      "execution_count": 8,
      "outputs": []
    },
    {
      "cell_type": "markdown",
      "metadata": {
        "id": "00eRoVd1dKY2"
      },
      "source": [
        "## Replace key - value"
      ]
    },
    {
      "cell_type": "code",
      "metadata": {
        "colab": {
          "base_uri": "https://localhost:8080/"
        },
        "id": "D34NLwXUAql_",
        "outputId": "9434bc38-fe4e-4cf6-99d3-3a1c66db5fa4"
      },
      "source": [
        "def replace_non_case(df):\n",
        "    count = 0\n",
        "    for pat, repl in abbreviation.items():\n",
        "        df['content'] = df['content'].str.replace(pat, repl, case = False, regex = False)\n",
        "        \n",
        "        # Progress printing\n",
        "        if count % 10 == 0:\n",
        "            print(f\"count: {count}\")\n",
        "        count += 1\n",
        "    \n",
        "\n",
        "    return df\n",
        "\n",
        "temp = df.copy()\n",
        "temp = replace_non_case(temp)"
      ],
      "execution_count": 9,
      "outputs": [
        {
          "output_type": "stream",
          "text": [
            "count: 0\n",
            "count: 10\n",
            "count: 20\n",
            "count: 30\n",
            "count: 40\n",
            "count: 50\n",
            "count: 60\n",
            "count: 70\n",
            "count: 80\n",
            "count: 90\n",
            "count: 100\n",
            "count: 110\n",
            "count: 120\n",
            "count: 130\n",
            "count: 140\n",
            "count: 150\n",
            "count: 160\n",
            "count: 170\n",
            "count: 180\n",
            "count: 190\n",
            "count: 200\n",
            "count: 210\n",
            "count: 220\n",
            "count: 230\n",
            "count: 240\n",
            "count: 250\n",
            "count: 260\n",
            "count: 270\n",
            "count: 280\n",
            "count: 290\n",
            "count: 300\n",
            "count: 310\n",
            "count: 320\n",
            "count: 330\n",
            "count: 340\n",
            "count: 350\n",
            "count: 360\n",
            "count: 370\n",
            "count: 380\n",
            "count: 390\n",
            "count: 400\n",
            "count: 410\n",
            "count: 420\n",
            "count: 430\n",
            "count: 440\n",
            "count: 450\n",
            "count: 460\n",
            "count: 470\n",
            "count: 480\n",
            "count: 490\n",
            "count: 500\n",
            "count: 510\n",
            "count: 520\n",
            "count: 530\n",
            "count: 540\n",
            "count: 550\n",
            "count: 560\n",
            "count: 570\n",
            "count: 580\n",
            "count: 590\n",
            "count: 600\n",
            "count: 610\n",
            "count: 620\n",
            "count: 630\n",
            "count: 640\n",
            "count: 650\n",
            "count: 660\n",
            "count: 670\n",
            "count: 680\n",
            "count: 690\n",
            "count: 700\n",
            "count: 710\n",
            "count: 720\n",
            "count: 730\n"
          ],
          "name": "stdout"
        }
      ]
    },
    {
      "cell_type": "markdown",
      "metadata": {
        "id": "kFtNSi8DkWgb"
      },
      "source": [
        "## Số dòng được thay thế từ viết tắt"
      ]
    },
    {
      "cell_type": "code",
      "metadata": {
        "colab": {
          "base_uri": "https://localhost:8080/"
        },
        "id": "4iIaJN4wde3v",
        "outputId": "10f4eee4-933a-4525-c1cf-a32d5c66a026"
      },
      "source": [
        "sum(temp['content'] != df['content'])"
      ],
      "execution_count": 10,
      "outputs": [
        {
          "output_type": "execute_result",
          "data": {
            "text/plain": [
              "25145"
            ]
          },
          "metadata": {
            "tags": []
          },
          "execution_count": 10
        }
      ]
    },
    {
      "cell_type": "markdown",
      "metadata": {
        "id": "fCDsXXmkll94"
      },
      "source": [
        "## Save as csv"
      ]
    },
    {
      "cell_type": "code",
      "metadata": {
        "id": "5UjnHsAIdyW-"
      },
      "source": [
        "# df = temp\n",
        "temp.to_csv('df_abv.csv')"
      ],
      "execution_count": 11,
      "outputs": []
    },
    {
      "cell_type": "code",
      "metadata": {
        "id": "3JPu6Qrykl8_"
      },
      "source": [
        "df = temp"
      ],
      "execution_count": 12,
      "outputs": []
    },
    {
      "cell_type": "markdown",
      "metadata": {
        "id": "HSNDMlkDAUMU"
      },
      "source": [
        "# Word segmentation"
      ]
    },
    {
      "cell_type": "code",
      "metadata": {
        "id": "8_T94Ayl3cQm"
      },
      "source": [
        "from vncorenlp import VnCoreNLP\n",
        "\n",
        "VNCOR = './VnCoreNLP-1.1.1/VnCoreNLP-1.1.1.jar'\n",
        "segmenter = VnCoreNLP(VNCOR, annotators= 'wseg')"
      ],
      "execution_count": 13,
      "outputs": []
    },
    {
      "cell_type": "code",
      "metadata": {
        "colab": {
          "base_uri": "https://localhost:8080/",
          "height": 66,
          "referenced_widgets": [
            "0f0cd1968653409eb6aa2328c23c36c4",
            "b067e48cc3b44107a18bff2534835a2c",
            "d0c5dac8756b4fff94ba61e5b6b699fa",
            "ba923f3c483e4fd5aec6ca123fff5c98",
            "1f3d1d6843744ba7b95109a9c595f854",
            "9882b35182db42318cfca4300b44d175",
            "656707617b9b408e800c0171c77e8719",
            "d9fa29e1dd654a71badd795040e99ea2"
          ]
        },
        "id": "Ic6saj_q6BXp",
        "outputId": "618af5c0-ba01-4f81-d656-63e3d25a0bb2"
      },
      "source": [
        "# txt = 'học sinh học sinh học'\n",
        "# print(segmenter.tokenize(txt))\n",
        "\n",
        "\n",
        "\n",
        "def sen_word_seg(sample):\n",
        "    \"\"\" Viblo - phoBERT \"\"\"\n",
        "    \n",
        "    splits = sample.strip().split('\\n')\n",
        "    text = ' '.join(splits)\n",
        "\n",
        "    # return\n",
        "    text = segmenter.tokenize(text)\n",
        "    text = ' '.join([' '.join(x) for x in text])\n",
        "    \n",
        "    return text\n",
        "\n",
        "\n",
        "df['sen_word_seg'] = df['content'].progress_apply(sen_word_seg)"
      ],
      "execution_count": 14,
      "outputs": [
        {
          "output_type": "display_data",
          "data": {
            "application/vnd.jupyter.widget-view+json": {
              "model_id": "0f0cd1968653409eb6aa2328c23c36c4",
              "version_minor": 0,
              "version_major": 2
            },
            "text/plain": [
              "HBox(children=(FloatProgress(value=0.0, max=49517.0), HTML(value='')))"
            ]
          },
          "metadata": {
            "tags": []
          }
        },
        {
          "output_type": "stream",
          "text": [
            "\n"
          ],
          "name": "stdout"
        }
      ]
    },
    {
      "cell_type": "markdown",
      "metadata": {
        "id": "8jq6TtOiwj5y"
      },
      "source": [
        "## Save to csv"
      ]
    },
    {
      "cell_type": "code",
      "metadata": {
        "id": "dL5TblFqwKWh"
      },
      "source": [
        "df.to_csv('preprocessed.csv')"
      ],
      "execution_count": 15,
      "outputs": []
    }
  ]
}