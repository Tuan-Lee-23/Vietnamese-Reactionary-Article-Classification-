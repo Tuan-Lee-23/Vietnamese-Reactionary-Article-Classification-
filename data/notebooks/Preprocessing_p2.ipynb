{
  "nbformat": 4,
  "nbformat_minor": 0,
  "metadata": {
    "colab": {
      "name": "Preprocessing p2.ipynb",
      "provenance": [],
      "collapsed_sections": [],
      "toc_visible": true
    },
    "kernelspec": {
      "name": "python3",
      "display_name": "Python 3"
    },
    "language_info": {
      "name": "python"
    }
  },
  "cells": [
    {
      "cell_type": "markdown",
      "metadata": {
        "id": "yB0suT23oChI"
      },
      "source": [
        "# Import libs"
      ]
    },
    {
      "cell_type": "code",
      "metadata": {
        "colab": {
          "base_uri": "https://localhost:8080/"
        },
        "id": "c8bN0fcFoJW_",
        "outputId": "ca05b035-5c85-4023-f558-8fa27f8418d3"
      },
      "source": [
        "import re\n",
        "import seaborn as sns\n",
        "import os \n",
        "import pandas as pd \n",
        "import numpy as np\n",
        "import matplotlib.pyplot as plt \n",
        "from tqdm.notebook import tqdm\n",
        "import pickle\n",
        "import plotly.express as px\n",
        "import plotly.figure_factory as ff\n",
        "from matplotlib import rcParams\n",
        "\n",
        "tqdm.pandas()\n",
        "\n",
        "sns.set_theme()\n",
        "rcParams['figure.figsize'] = 15,8"
      ],
      "execution_count": null,
      "outputs": [
        {
          "output_type": "stream",
          "text": [
            "/usr/local/lib/python3.7/dist-packages/tqdm/std.py:658: FutureWarning:\n",
            "\n",
            "The Panel class is removed from pandas. Accessing it from the top-level namespace will also be removed in the next version\n",
            "\n"
          ],
          "name": "stderr"
        }
      ]
    },
    {
      "cell_type": "code",
      "metadata": {
        "colab": {
          "base_uri": "https://localhost:8080/"
        },
        "id": "niM-ughTQJPE",
        "outputId": "4c61e2bb-614c-4640-fe0d-7c7714548767"
      },
      "source": [
        "!pip install vncorenlp"
      ],
      "execution_count": null,
      "outputs": [
        {
          "output_type": "stream",
          "text": [
            "Requirement already satisfied: vncorenlp in /usr/local/lib/python3.7/dist-packages (1.0.3)\n",
            "Requirement already satisfied: requests in /usr/local/lib/python3.7/dist-packages (from vncorenlp) (2.23.0)\n",
            "Requirement already satisfied: idna<3,>=2.5 in /usr/local/lib/python3.7/dist-packages (from requests->vncorenlp) (2.10)\n",
            "Requirement already satisfied: certifi>=2017.4.17 in /usr/local/lib/python3.7/dist-packages (from requests->vncorenlp) (2021.5.30)\n",
            "Requirement already satisfied: chardet<4,>=3.0.2 in /usr/local/lib/python3.7/dist-packages (from requests->vncorenlp) (3.0.4)\n",
            "Requirement already satisfied: urllib3!=1.25.0,!=1.25.1,<1.26,>=1.21.1 in /usr/local/lib/python3.7/dist-packages (from requests->vncorenlp) (1.24.3)\n"
          ],
          "name": "stdout"
        }
      ]
    },
    {
      "cell_type": "markdown",
      "metadata": {
        "id": "6okGYV70oLKR"
      },
      "source": [
        "# Git clone"
      ]
    },
    {
      "cell_type": "code",
      "metadata": {
        "colab": {
          "base_uri": "https://localhost:8080/"
        },
        "id": "LevAhqFaoPz9",
        "outputId": "44920bbb-a1b9-492d-969c-ccab631ae917"
      },
      "source": [
        "# Clone the entire repo.\n",
        "!git clone https://github.com/Tuan-Lee-23/Vietnamese-Reactionary-Article-Classification-.git\n",
        "%cd Vietnamese-Reactionary-Article-Classification-/\n",
        "!ls"
      ],
      "execution_count": null,
      "outputs": [
        {
          "output_type": "stream",
          "text": [
            "fatal: destination path 'Vietnamese-Reactionary-Article-Classification-' already exists and is not an empty directory.\n",
            "/content/Vietnamese-Reactionary-Article-Classification-\n",
            "analysis  data\tdemo  modeling\tREADME.md\n"
          ],
          "name": "stdout"
        }
      ]
    },
    {
      "cell_type": "markdown",
      "metadata": {
        "id": "2H1LyJPQovtt"
      },
      "source": [
        "# Read pickles"
      ]
    },
    {
      "cell_type": "code",
      "metadata": {
        "colab": {
          "base_uri": "https://localhost:8080/"
        },
        "id": "vsg3fWN2oz5L",
        "outputId": "91ebb3ac-2aa5-4b08-f279-f65971f9b4bf"
      },
      "source": [
        "%cd data/preprocessed/\n",
        "! wget 'https://github.com/vncorenlp/VnCoreNLP/archive/v1.1.1.zip' -O ./models.$$ && unzip -o ./models.$$ && rm -r ./models.$$."
      ],
      "execution_count": null,
      "outputs": [
        {
          "output_type": "stream",
          "text": [
            "/content/Vietnamese-Reactionary-Article-Classification-/data/preprocessed\n",
            "--2021-06-23 09:18:40--  https://github.com/vncorenlp/VnCoreNLP/archive/v1.1.1.zip\n",
            "Resolving github.com (github.com)... 140.82.112.4\n",
            "Connecting to github.com (github.com)|140.82.112.4|:443... connected.\n",
            "HTTP request sent, awaiting response... 302 Found\n",
            "Location: https://codeload.github.com/vncorenlp/VnCoreNLP/zip/v1.1.1 [following]\n",
            "--2021-06-23 09:18:40--  https://codeload.github.com/vncorenlp/VnCoreNLP/zip/v1.1.1\n",
            "Resolving codeload.github.com (codeload.github.com)... 140.82.112.10\n",
            "Connecting to codeload.github.com (codeload.github.com)|140.82.112.10|:443... connected.\n",
            "HTTP request sent, awaiting response... 200 OK\n",
            "Length: unspecified [application/zip]\n",
            "Saving to: ‘./models.1211’\n",
            "\n",
            "./models.1211           [         <=>        ] 137.29M  23.5MB/s    in 5.9s    \n",
            "\n",
            "2021-06-23 09:18:46 (23.5 MB/s) - ‘./models.1211’ saved [143955573]\n",
            "\n",
            "Archive:  ./models.1211\n",
            "3b5c2aac53bb1fda0502d89ab8085b712e299fab\n",
            "  inflating: VnCoreNLP-1.1.1/LICENSE.md  \n",
            "  inflating: VnCoreNLP-1.1.1/Readme.md  \n",
            "  inflating: VnCoreNLP-1.1.1/TagsetDescription.md  \n",
            "  inflating: VnCoreNLP-1.1.1/VLSP2013_POS_tagset.pdf  \n",
            "  inflating: VnCoreNLP-1.1.1/VnCoreNLP-1.1.1.jar  \n",
            "  inflating: VnCoreNLP-1.1.1/VnDT-treebank-description.pdf  \n",
            " extracting: VnCoreNLP-1.1.1/models/dep/vi-dep.xz  \n",
            " extracting: VnCoreNLP-1.1.1/models/ner/vi-500brownclusters.xz  \n",
            " extracting: VnCoreNLP-1.1.1/models/ner/vi-ner.xz  \n",
            " extracting: VnCoreNLP-1.1.1/models/ner/vi-pretrainedembeddings.xz  \n",
            " extracting: VnCoreNLP-1.1.1/models/postagger/vi-tagger  \n",
            "  inflating: VnCoreNLP-1.1.1/models/wordsegmenter/vi-vocab  \n",
            "  inflating: VnCoreNLP-1.1.1/models/wordsegmenter/wordsegmenter.rdr  \n",
            "  inflating: VnCoreNLP-1.1.1/pom.xml  \n",
            "  inflating: VnCoreNLP-1.1.1/src/main/java/vn/corenlp/ner/NerRecognizer.java  \n",
            "  inflating: VnCoreNLP-1.1.1/src/main/java/vn/corenlp/parser/DependencyParser.java  \n",
            "  inflating: VnCoreNLP-1.1.1/src/main/java/vn/corenlp/postagger/PosTagger.java  \n",
            "  inflating: VnCoreNLP-1.1.1/src/main/java/vn/corenlp/tokenizer/StringUtils.java  \n",
            "  inflating: VnCoreNLP-1.1.1/src/main/java/vn/corenlp/tokenizer/Tokenizer.java  \n",
            "  inflating: VnCoreNLP-1.1.1/src/main/java/vn/corenlp/wordsegmenter/FWObject.java  \n",
            "  inflating: VnCoreNLP-1.1.1/src/main/java/vn/corenlp/wordsegmenter/Node.java  \n",
            "  inflating: VnCoreNLP-1.1.1/src/main/java/vn/corenlp/wordsegmenter/Utils.java  \n",
            "  inflating: VnCoreNLP-1.1.1/src/main/java/vn/corenlp/wordsegmenter/Vocabulary.java  \n",
            "  inflating: VnCoreNLP-1.1.1/src/main/java/vn/corenlp/wordsegmenter/WordSegmenter.java  \n",
            "  inflating: VnCoreNLP-1.1.1/src/main/java/vn/corenlp/wordsegmenter/WordTag.java  \n",
            "  inflating: VnCoreNLP-1.1.1/src/main/java/vn/pipeline/Annotation.java  \n",
            "  inflating: VnCoreNLP-1.1.1/src/main/java/vn/pipeline/LexicalInitializer.java  \n",
            "  inflating: VnCoreNLP-1.1.1/src/main/java/vn/pipeline/Sentence.java  \n",
            "  inflating: VnCoreNLP-1.1.1/src/main/java/vn/pipeline/Utils.java  \n",
            "  inflating: VnCoreNLP-1.1.1/src/main/java/vn/pipeline/VnCoreNLP.java  \n",
            "  inflating: VnCoreNLP-1.1.1/src/main/java/vn/pipeline/Word.java  \n",
            "  inflating: VnCoreNLP-1.1.1/src/main/resources/log4j.properties  \n",
            "  inflating: VnCoreNLP-1.1.1/src/test/java/VnCoreNLPExample.java  \n",
            "rm: cannot remove './models.$.': No such file or directory\n"
          ],
          "name": "stdout"
        }
      ]
    },
    {
      "cell_type": "code",
      "metadata": {
        "colab": {
          "base_uri": "https://localhost:8080/"
        },
        "id": "TfioNwu1oTbj",
        "outputId": "d78bfb0a-498d-4d05-946c-6d41d086f483"
      },
      "source": [
        "def read_all_pickles(dir):\n",
        "    ls_df = []\n",
        "    for data in os.listdir(dir):\n",
        "        print(data)\n",
        "        with open(dir + data, \"rb\") as f:\n",
        "            df = pickle.load(f)\n",
        "            print(\"\\n\\n\", df.head(), \"\\n\\n\")\n",
        "            ls_df.append(df)\n",
        "\n",
        "    final_df = pd.concat(ls_df)\n",
        "    final_df.drop_duplicates('content', inplace = True)\n",
        "    return final_df\n",
        "\n",
        "df_1 = read_all_pickles('./1/')\n",
        "df_0 = read_all_pickles('./0/')\n",
        "\n",
        "df = pd.concat([df_1, df_0])"
      ],
      "execution_count": null,
      "outputs": [
        {
          "output_type": "stream",
          "text": [
            "giaochucchuvanan.pickle\n",
            "\n",
            "\n",
            "                                               content  label  avg_length\n",
            "1   THẦY GIÁO THỂ HIỆN VĂN HÓA ĐẢNG?\\n\\nKhoảng Trờ...      1         644\n",
            "2   Nguyễn Đình Cống\\n3 giờ ·\\nTHƯ TRẢ LỜI CỦA BỘ ...      1        1384\n",
            "20  KHÔNG BIẾT NHỤC SAO CÒN TỰ HÀO?\\n\\nĐảng csVn đ...      1        2015\n",
            "28  \\nTUOITRE.VN\\nHàng ngàn người tiễn biệt cố Thứ...      1         834\n",
            "29  Lý thuyết cai trị dân bằng bạo lực \"cách mạng\"...      1         501 \n",
            "\n",
            "\n",
            "thanhnienconggiao.pickle\n",
            "\n",
            "\n",
            "                                              content  label  avg_length\n",
            "0  “Nếu linh hồn thuộc về nhà nước, thì việc dâng...      1         625\n",
            "1  MUỐN VÀO NƯỚC TRỜI HÃY NÊN NHƯ TRẺ NHỎ\\n\\nLòng...      1         700\n",
            "2  MƯỜI CĂN BỆNH LÀM BĂNG HOẠI NGƯỜI CÔNG GIÁO\\n(...      1         703\n",
            "3  BẢN TIN ĐẶC BIỆT VỀ NỮ TÙ NHÂN LƯƠNG TÂM VIỆT ...      1         702\n",
            "4  Bộ máy nhà nước Việt Nam hiện tại có khoảng 3 ...      1         703 \n",
            "\n",
            "\n",
            "viettan.pickle\n",
            "\n",
            "\n",
            "                                              content  label  avg_length\n",
            "0  Việt Nam có nên tiếp tục “chống dịch như chống...      1        9109\n",
            "1  Nguyễn Phú Trọng và con đường tiến lên xã hội ...      1        5084\n",
            "2  Ngày 30 tháng 4\\nThấm thoát biến cố 30 tháng 4...      1        4186\n",
            "3  Myanmar đứng trước nguy cơ nội chiến\\nCuộc đảo...      1       11835\n",
            "4  Vai trò “trung tâm” của Nhật Bản trong chiến l...      1        5762 \n",
            "\n",
            "\n",
            "chantroimoi.pickle\n",
            "\n",
            "\n",
            "                                              content  label  avg_length\n",
            "1  NHÀ CHO CÔNG NHÂN QUÁ ÍT!\\n\\nPhạm Nhật Bình - ...      1         704\n",
            "2  Vài trao đổi cùng “bác cả” Trọng... về \"kinh t...      1         818\n",
            "3  BẦU CỬ KIỂU Ở VN XÃ NGHĨA\\n\\nNguyễn Doãn Đôn\\n...      1         704\n",
            "4  Nguyễn Phú Trọng và con đường tiến lên xã hội ...      1         697\n",
            "5  BẦU\\n\\nNguyễn Thông\\n\\nCứ như tivi báo chí tru...      1         678 \n",
            "\n",
            "\n",
            "khoi8406.pickle\n",
            "\n",
            "\n",
            "                                              content  label  avg_length\n",
            "3  Đánh đập dã man\\n\\nTrong những ngày qua, nhiều...      1         783\n",
            "4  Có quý vị nào cho rằng biểu tình chống Trung Q...      1         656\n",
            "6  Bên lề đường.....\\n\\nKhi mà cơm không đủ no, á...      1         698\n",
            "7  Trả lời Xuân Hồng﻿ BBC. Bà Bảy Vân vợ Tổng BT ...      1         521\n",
            "9  CHỐNG TRUNG QUỐC KHÔNG PHẢI LÀ TỘI\\n\\n[BBC] Mẹ...      1         981 \n",
            "\n",
            "\n",
            "bpsos.pickle\n",
            "\n",
            "\n",
            "                                              content  label  avg_length\n",
            "0  Theo các đại diện của cư dân Tiểu Khu 179, chí...      1        3085\n",
            "1  Trong cuộc bầu cử ngày 23 tháng 5 năm 2021 vừa...      1        1882\n",
            "2  MỘT CUỘC BIỂU TÌNH ĐƯỢC COI LÀ HỢP PHÁP TẠI VI...      1        1406\n",
            "3  \\n\\nBPSOS - Vietnam Advocacy Project\\n20 mei o...      1        2297\n",
            "4  Gần đây, nhiều cá nhân, tổ chức bảo vệ nhân qu...      1        1606 \n",
            "\n",
            "\n",
            "sbtn.pickle\n",
            "\n",
            "\n",
            "                                              content  label  avg_length\n",
            "0  Nghệ sỹ hài Dương Hoài Linh bị chỉ trích vì gi...      1        1683\n",
            "1  Người dân bị lập biên bản vì không muốn làm tr...      1        1588\n",
            "2  Ngân hàng thế giới nói dòng vốn đầu tư trực ti...      1        1412\n",
            "3  Người Việt uống nhiều bia rượu hơn trong đại d...      1        1017\n",
            "4  Nhiều người Việt Nam muốn đi Hoa Kỳ tiêm vacci...      1        1402 \n",
            "\n",
            "\n",
            "rfa.pickle\n",
            "\n",
            "\n",
            "                                               content  label  avg_length\n",
            "1   Hôm nay sau gần một tuần bị dân mạng phanh phu...      1        1758\n",
            "4   Công dân khiếm thị, vợ ứng viên độc lập, bị lậ...      1         813\n",
            "5   Thắng lợi bằng mọi giá\\nNhiều ngày qua, Việt N...      1        2034\n",
            "7   Nguyên Giám đốc Sở Y tế Sơn La bị khai trừ đản...      1        1255\n",
            "10  Công dân khiếm thị, vợ ứng viên độc lập, bị lậ...      1         813 \n",
            "\n",
            "\n",
            "viettan_fb.pickle\n",
            "\n",
            "\n",
            "                                              content  label  avg_length\n",
            "0  Bộ máy tuyên giáo CSVN luôn tuyên truyền về va...      1         576\n",
            "1  BẮC KINH BỊ CÁO BUỘC DIỆT CHỦNG NGƯỜI NGÔ DUY ...      1         701\n",
            "3  5 NGƯỜI BỊ BẮT VÌ ĐƯA 200 NGƯỜI TRUNG QUỐC XUẤ...      1         703\n",
            "4  BẦU CỬ NHƯ VIỆC NẤU ĂN\\nLs Luân Lê\\n\\nKhi sự s...      1         706\n",
            "5  NGƯỜI DÂN VIỆT NAM TỐN BAO NHIÊU TIỀN ĐỂ BẦU R...      1         735 \n",
            "\n",
            "\n",
            "phamminhvu.pickle\n",
            "\n",
            "\n",
            "                                              content  label  avg_length\n",
            "0  Trong khi cả thế giới đang dần đẩy lùi được Vi...      1        3641\n",
            "1  Người Việt Nam từ khi nào lại tàn nhẫn thế?\\n\\...      1        2386\n",
            "2  Tuyên giáo VN hèn hạ!\\n\\nĐây là hình ảnh của h...      1        2011\n",
            "3  Mới đây, chính quyền thành phố Mungyeong, tỉnh...      1        2611\n",
            "4  Hiện nay, cả hệ thống tuyên giáo đang đăng bài...      1        3963 \n",
            "\n",
            "\n",
            "tinnoichinh.pickle\n",
            "\n",
            "\n",
            "                                              content  label  avg_length\n",
            "0  BÁC SĨ TRONG TÂM DỊCH BẮC GIANG DƯỚI NẮNG MÙA ...      0         758\n",
            "1  Mấy ca này nó mà đi bầu cử rồi mới mệt đây! :(...      0         363\n",
            "2  NÓNG: HCDC sáng 27/5 ghi nhận thêm 10 người si...      0        1420\n",
            "3  Liên quan tới các ca nhiễm Covid-19 mới ở địa ...      0         530\n",
            "4  Như vậy đây có thể là chuỗi lây nhiễm lớn và n...      0         677 \n",
            "\n",
            "\n",
            "vnexpress.pickle\n",
            "\n",
            "\n",
            "                                              content  label  avg_length\n",
            "0  Phát động quyên góp ủng hộ phòng, chống Covid-...      0        4064\n",
            "1  Công binh Việt Nam chuẩn bị tham gia gìn giữ h...      0        4892\n",
            "2  Phó tư lệnh Quân khu 9 bị cách tất cả chức vụ ...      0        2381\n",
            "3  Công bố kết quả bầu cử Quốc hội đầu tháng 6\\nD...      0        2332\n",
            "4  Sơn La kỷ luật nhiều cán bộ\\nBan chấp hành Đản...      0        2727 \n",
            "\n",
            "\n"
          ],
          "name": "stdout"
        }
      ]
    },
    {
      "cell_type": "code",
      "metadata": {
        "id": "Hr87gpbElDCR"
      },
      "source": [
        "df = df[df['avg_length'] < 20000]"
      ],
      "execution_count": null,
      "outputs": []
    },
    {
      "cell_type": "markdown",
      "metadata": {
        "id": "gtz08-qSAO6t"
      },
      "source": [
        "# Remove abbreviation + teencode"
      ]
    },
    {
      "cell_type": "markdown",
      "metadata": {
        "id": "p0SFRIZMc7Gz"
      },
      "source": [
        "## Read and write pickle function"
      ]
    },
    {
      "cell_type": "code",
      "metadata": {
        "id": "RhyIqYUocAOK"
      },
      "source": [
        "def write_pickle(df, dir):\n",
        "    with open(dir, 'wb') as handle:\n",
        "        pickle.dump(df, handle)\n",
        "    return\n",
        "    \n",
        "def read_pickle(dir):\n",
        "    with open(dir, 'rb') as fs:\n",
        "        df = pickle.load(fs)\n",
        "    return df"
      ],
      "execution_count": null,
      "outputs": []
    },
    {
      "cell_type": "markdown",
      "metadata": {
        "id": "Vg-aeGEWlHUW"
      },
      "source": [
        ""
      ]
    },
    {
      "cell_type": "markdown",
      "metadata": {
        "id": "Ad74TM0NjvbZ"
      },
      "source": [
        ""
      ]
    },
    {
      "cell_type": "markdown",
      "metadata": {
        "id": "MIXhQtJsdAVu"
      },
      "source": [
        "## Read csv"
      ]
    },
    {
      "cell_type": "code",
      "metadata": {
        "colab": {
          "base_uri": "https://localhost:8080/",
          "height": 195
        },
        "id": "Cwgh0qS2AXiD",
        "outputId": "cb6667c4-8fa6-45b1-c9a6-63f7d13fbee7"
      },
      "source": [
        "abbreviation = pd.read_csv('./resources/abbreviation.csv')\n",
        "abbreviation = abbreviation[['viet tat_x', 'mean']]\n",
        "abbreviation.head()"
      ],
      "execution_count": null,
      "outputs": [
        {
          "output_type": "execute_result",
          "data": {
            "text/html": [
              "<div>\n",
              "<style scoped>\n",
              "    .dataframe tbody tr th:only-of-type {\n",
              "        vertical-align: middle;\n",
              "    }\n",
              "\n",
              "    .dataframe tbody tr th {\n",
              "        vertical-align: top;\n",
              "    }\n",
              "\n",
              "    .dataframe thead th {\n",
              "        text-align: right;\n",
              "    }\n",
              "</style>\n",
              "<table border=\"1\" class=\"dataframe\">\n",
              "  <thead>\n",
              "    <tr style=\"text-align: right;\">\n",
              "      <th></th>\n",
              "      <th>viet tat_x</th>\n",
              "      <th>mean</th>\n",
              "    </tr>\n",
              "  </thead>\n",
              "  <tbody>\n",
              "    <tr>\n",
              "      <th>0</th>\n",
              "      <td>ABC</td>\n",
              "      <td>Công ty Truyền thông ABC</td>\n",
              "    </tr>\n",
              "    <tr>\n",
              "      <th>1</th>\n",
              "      <td>ADB</td>\n",
              "      <td>Ngân hàng Phát triển châu Á</td>\n",
              "    </tr>\n",
              "    <tr>\n",
              "      <th>2</th>\n",
              "      <td>ADN</td>\n",
              "      <td>AND</td>\n",
              "    </tr>\n",
              "    <tr>\n",
              "      <th>3</th>\n",
              "      <td>ANĐT</td>\n",
              "      <td>an ninh điều tra</td>\n",
              "    </tr>\n",
              "    <tr>\n",
              "      <th>4</th>\n",
              "      <td>ATGT</td>\n",
              "      <td>An toàn Giao thông</td>\n",
              "    </tr>\n",
              "  </tbody>\n",
              "</table>\n",
              "</div>"
            ],
            "text/plain": [
              "  viet tat_x                         mean\n",
              "0        ABC     Công ty Truyền thông ABC\n",
              "1        ADB  Ngân hàng Phát triển châu Á\n",
              "2        ADN                          AND\n",
              "3       ANĐT             an ninh điều tra\n",
              "4       ATGT           An toàn Giao thông"
            ]
          },
          "metadata": {
            "tags": []
          },
          "execution_count": 198
        }
      ]
    },
    {
      "cell_type": "markdown",
      "metadata": {
        "id": "u4PgIpsDdDqC"
      },
      "source": [
        "## Add them tu khoa"
      ]
    },
    {
      "cell_type": "code",
      "metadata": {
        "id": "eyHljSZpAqzK"
      },
      "source": [
        "abbreviation = dict(zip(abbreviation['viet tat_x'], abbreviation['mean']))\n",
        "\n",
        "abbreviation['csvn'] = 'Cộng sản Việt Nam'\n",
        "abbreviation['đcsvn'] = 'Đảng Cộng sản Việt Nam'\n",
        "abbreviation['xhcn'] = 'Xã hội Chủ nghĩa'\n",
        "abbreviation['cntb'] = 'Chủ nghĩa Tư bản'\n",
        "abbreviation['cs'] = 'Cộng sản'"
      ],
      "execution_count": null,
      "outputs": []
    },
    {
      "cell_type": "markdown",
      "metadata": {
        "id": "00eRoVd1dKY2"
      },
      "source": [
        "## Replace key - value"
      ]
    },
    {
      "cell_type": "code",
      "metadata": {
        "colab": {
          "base_uri": "https://localhost:8080/"
        },
        "id": "D34NLwXUAql_",
        "outputId": "055dc8ba-8475-4bea-d643-a0505404482b"
      },
      "source": [
        "def replace_non_case(df):\n",
        "    count = 0\n",
        "    for pat, repl in abbreviation.items():\n",
        "        df['content'] = df['content'].str.replace(pat, repl, case = False, regex = False)\n",
        "        \n",
        "        # Progress printing\n",
        "        if count % 10 == 0:\n",
        "            print(f\"count: {count}\")\n",
        "        count += 1\n",
        "    \n",
        "\n",
        "    return df\n",
        "\n",
        "temp = df.copy()\n",
        "temp = replace_non_case(temp)"
      ],
      "execution_count": null,
      "outputs": [
        {
          "output_type": "stream",
          "text": [
            "count: 0\n",
            "count: 10\n",
            "count: 20\n",
            "count: 30\n",
            "count: 40\n",
            "count: 50\n",
            "count: 60\n",
            "count: 70\n",
            "count: 80\n",
            "count: 90\n",
            "count: 100\n",
            "count: 110\n",
            "count: 120\n",
            "count: 130\n",
            "count: 140\n",
            "count: 150\n",
            "count: 160\n",
            "count: 170\n",
            "count: 180\n",
            "count: 190\n",
            "count: 200\n",
            "count: 210\n",
            "count: 220\n",
            "count: 230\n",
            "count: 240\n",
            "count: 250\n",
            "count: 260\n",
            "count: 270\n",
            "count: 280\n",
            "count: 290\n",
            "count: 300\n",
            "count: 310\n",
            "count: 320\n",
            "count: 330\n",
            "count: 340\n",
            "count: 350\n",
            "count: 360\n",
            "count: 370\n",
            "count: 380\n",
            "count: 390\n",
            "count: 400\n",
            "count: 410\n",
            "count: 420\n",
            "count: 430\n",
            "count: 440\n",
            "count: 450\n",
            "count: 460\n",
            "count: 470\n",
            "count: 480\n",
            "count: 490\n",
            "count: 500\n",
            "count: 510\n",
            "count: 520\n",
            "count: 530\n",
            "count: 540\n",
            "count: 550\n",
            "count: 560\n",
            "count: 570\n",
            "count: 580\n",
            "count: 590\n",
            "count: 600\n",
            "count: 610\n",
            "count: 620\n",
            "count: 630\n",
            "count: 640\n",
            "count: 650\n",
            "count: 660\n",
            "count: 670\n",
            "count: 680\n",
            "count: 690\n",
            "count: 700\n",
            "count: 710\n",
            "count: 720\n",
            "count: 730\n",
            "count: 740\n",
            "count: 750\n",
            "count: 760\n",
            "count: 770\n",
            "count: 780\n",
            "count: 790\n",
            "count: 800\n",
            "count: 810\n",
            "count: 820\n",
            "count: 830\n"
          ],
          "name": "stdout"
        }
      ]
    },
    {
      "cell_type": "markdown",
      "metadata": {
        "id": "kFtNSi8DkWgb"
      },
      "source": [
        "## Số dòng được thay thế từ viết tắt"
      ]
    },
    {
      "cell_type": "code",
      "metadata": {
        "colab": {
          "base_uri": "https://localhost:8080/"
        },
        "id": "4iIaJN4wde3v",
        "outputId": "a879f6cf-d18e-4bec-fa22-d2e6963b1cdf"
      },
      "source": [
        "sum(temp['content'] != df['content'])"
      ],
      "execution_count": null,
      "outputs": [
        {
          "output_type": "execute_result",
          "data": {
            "text/plain": [
              "14536"
            ]
          },
          "metadata": {
            "tags": []
          },
          "execution_count": 211
        }
      ]
    },
    {
      "cell_type": "markdown",
      "metadata": {
        "id": "fCDsXXmkll94"
      },
      "source": [
        "## Save as pickle"
      ]
    },
    {
      "cell_type": "code",
      "metadata": {
        "id": "5UjnHsAIdyW-"
      },
      "source": [
        "# df = temp\n",
        "write_pickle(temp, './resources/df_abv.pickle')"
      ],
      "execution_count": null,
      "outputs": []
    },
    {
      "cell_type": "markdown",
      "metadata": {
        "id": "ipHX8T_1k4qq"
      },
      "source": [
        ""
      ]
    },
    {
      "cell_type": "code",
      "metadata": {
        "id": "3JPu6Qrykl8_"
      },
      "source": [
        "df = temp"
      ],
      "execution_count": null,
      "outputs": []
    },
    {
      "cell_type": "markdown",
      "metadata": {
        "id": "HSNDMlkDAUMU"
      },
      "source": [
        "# Word segmentation"
      ]
    },
    {
      "cell_type": "markdown",
      "metadata": {
        "id": "pEemybhYhrl4"
      },
      "source": [
        ""
      ]
    },
    {
      "cell_type": "markdown",
      "metadata": {
        "id": "0nQ3S7FTh6Pp"
      },
      "source": [
        ""
      ]
    },
    {
      "cell_type": "code",
      "metadata": {
        "id": "8_T94Ayl3cQm"
      },
      "source": [
        "from vncorenlp import VnCoreNLP\n",
        "\n",
        "VNCOR = './VnCoreNLP-1.1.1/VnCoreNLP-1.1.1.jar'\n",
        "segmenter = VnCoreNLP(VNCOR, annotators= 'wseg')"
      ],
      "execution_count": null,
      "outputs": []
    },
    {
      "cell_type": "code",
      "metadata": {
        "colab": {
          "base_uri": "https://localhost:8080/"
        },
        "id": "Ic6saj_q6BXp",
        "outputId": "06c0cecd-81c0-4e0e-8b30-cf6de3868dfd"
      },
      "source": [
        "# txt = 'học sinh học sinh học'\n",
        "# print(segmenter.tokenize(txt))\n",
        "\n",
        "\n",
        "\n",
        "def sen_word_seg(sample):\n",
        "    \"\"\" Viblo - phoBERT \"\"\"\n",
        "    \n",
        "    splits = sample.strip().split('\\n')\n",
        "    text = ' '.join(splits)\n",
        "\n",
        "    # return\n",
        "    text = segmenter.tokenize(text)\n",
        "    text = ' '.join([' '.join(x) for x in text])\n",
        "    \n",
        "    return text\n",
        "\n",
        "\n",
        "\n",
        "\n",
        "\n",
        "sen_word_seg('hôm nay tôi đi học.\\n Có cái buồi gì đâu')"
      ],
      "execution_count": null,
      "outputs": [
        {
          "output_type": "stream",
          "text": [
            "hôm_nay tôi đi học . Có cái buồi gì đâu\n"
          ],
          "name": "stdout"
        }
      ]
    },
    {
      "cell_type": "markdown",
      "metadata": {
        "id": "C5aFiuv-ovcG"
      },
      "source": [
        "#Count plot"
      ]
    },
    {
      "cell_type": "code",
      "metadata": {
        "colab": {
          "base_uri": "https://localhost:8080/",
          "height": 539
        },
        "id": "kzm6aclPo0eR",
        "outputId": "a56f68dd-a02e-4ce8-928e-0d053d68aa54"
      },
      "source": [
        "sns.countplot(df['label'])"
      ],
      "execution_count": null,
      "outputs": [
        {
          "output_type": "stream",
          "text": [
            "/usr/local/lib/python3.7/dist-packages/seaborn/_decorators.py:43: FutureWarning:\n",
            "\n",
            "Pass the following variable as a keyword arg: x. From version 0.12, the only valid positional argument will be `data`, and passing other arguments without an explicit keyword will result in an error or misinterpretation.\n",
            "\n"
          ],
          "name": "stderr"
        },
        {
          "output_type": "execute_result",
          "data": {
            "text/plain": [
              "<matplotlib.axes._subplots.AxesSubplot at 0x7fdd76907a10>"
            ]
          },
          "metadata": {
            "tags": []
          },
          "execution_count": 58
        },
        {
          "output_type": "display_data",
          "data": {
            "image/png": "[encoded data removed]",
            "text/plain": [
              "<Figure size 1080x576 with 1 Axes>"
            ]
          },
          "metadata": {
            "tags": []
          }
        }
      ]
    },
    {
      "cell_type": "markdown",
      "metadata": {
        "id": "T1RXCpyXmx5b"
      },
      "source": [
        "# Distribution of length"
      ]
    },
    {
      "cell_type": "code",
      "metadata": {
        "colab": {
          "base_uri": "https://localhost:8080/",
          "height": 449
        },
        "id": "NL4qjcw_lA8x",
        "outputId": "1527c060-d1d3-4038-ca0b-c18d267adea8"
      },
      "source": [
        "sns.kdeplot(df['avg_length'], fill = True, hue = df['label'])"
      ],
      "execution_count": null,
      "outputs": [
        {
          "output_type": "execute_result",
          "data": {
            "text/plain": [
              "<matplotlib.axes._subplots.AxesSubplot at 0x7fdd759791d0>"
            ]
          },
          "metadata": {
            "tags": []
          },
          "execution_count": 55
        },
        {
          "output_type": "display_data",
          "data": {
            "image/png": "[encoded data removed]",
            "text/plain": [
              "<Figure size 1080x576 with 1 Axes>"
            ]
          },
          "metadata": {
            "tags": []
          }
        }
      ]
    },
    {
      "cell_type": "code",
      "metadata": {
        "colab": {
          "base_uri": "https://localhost:8080/",
          "height": 405
        },
        "id": "8KfXU4PDmqB6",
        "outputId": "7c477964-d8e7-4c43-8b0a-796e6c1f5c9b"
      },
      "source": [
        "sns.displot(df, x=\"avg_length\", kind=\"ecdf\", height= 8, aspect = 2, hue = 'label')"
      ],
      "execution_count": null,
      "outputs": [
        {
          "output_type": "execute_result",
          "data": {
            "text/plain": [
              "<seaborn.axisgrid.FacetGrid at 0x7fdd75714c90>"
            ]
          },
          "metadata": {
            "tags": []
          },
          "execution_count": 61
        },
        {
          "output_type": "display_data",
          "data": {
            "image/png": "[encoded data removed]",
            "text/plain": [
              "<Figure size 1198.6x576 with 1 Axes>"
            ]
          },
          "metadata": {
            "tags": []
          }
        }
      ]
    },
    {
      "cell_type": "code",
      "metadata": {
        "id": "hGcYHgkvnZFT"
      },
      "source": [
        ""
      ],
      "execution_count": null,
      "outputs": []
    }
  ]
}