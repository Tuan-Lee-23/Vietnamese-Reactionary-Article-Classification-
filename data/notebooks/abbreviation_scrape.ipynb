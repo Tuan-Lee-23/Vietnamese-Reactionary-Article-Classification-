{
  "nbformat": 4,
  "nbformat_minor": 0,
  "metadata": {
    "colab": {
      "name": "abbreviation_scrape.ipynb",
      "provenance": []
    },
    "kernelspec": {
      "name": "python3",
      "display_name": "Python 3"
    },
    "language_info": {
      "name": "python"
    }
  },
  "cells": [
    {
      "cell_type": "code",
      "metadata": {
        "colab": {
          "base_uri": "https://localhost:8080/"
        },
        "id": "2g3ihghS1Z28",
        "outputId": "5cdc0cb7-2e8f-4e9d-9af8-5364911b3a12"
      },
      "source": [
        "import pandas as pd\n",
        "from bs4 import BeautifulSoup\n",
        "import requests\n",
        "\n",
        "\"\"\"\n",
        "    Sources: https://sites.google.com/site/ngo2uochung/research/dsviettat-tieng-viet\n",
        "\"\"\"\n",
        "\n",
        "html = requests.get('https://sites.google.com/site/ngo2uochung/research/dsviettat-tieng-viet').content\n",
        "soup = BeautifulSoup(html)\n",
        "table_rows = soup.find_all('tr')\n",
        "\n",
        "res = []\n",
        "for i, tr in enumerate(table_rows):\n",
        "    if i < 4:\n",
        "        continue\n",
        "    td = tr.find_all('td')\n",
        "    row = [tr.text.strip() for tr in td if tr.text.strip()]\n",
        "    if row:\n",
        "        if len(row) >= 5:\n",
        "            row = row[:2] + row[3:]\n",
        "            # print(row)\n",
        "        row = row[1:3]\n",
        "        res.append(row)\n",
        "\n",
        "df = pd.DataFrame(res, columns=[\"viet tat\", \"mean\"])\n",
        "print(df.head())\n",
        "print(df.shape)\n",
        "df.to_csv(\"abbreviation.csv\")"
      ],
      "execution_count": 37,
      "outputs": [
        {
          "output_type": "stream",
          "text": [
            "  viet tat                         mean\n",
            "0      ABC     Công ty Truyền thông ABC\n",
            "1      ADB  Ngân hàng Phát triển châu Á\n",
            "2      ADN                          AND\n",
            "3     ANĐT             an ninh điều tra\n",
            "4     ATGT           An toàn Giao thông\n",
            "(876, 2)\n"
          ],
          "name": "stdout"
        }
      ]
    },
    {
      "cell_type": "code",
      "metadata": {
        "colab": {
          "base_uri": "https://localhost:8080/"
        },
        "id": "chZAvXqi13YM",
        "outputId": "ad407049-a1b1-4611-c9b3-3f7e3165b977"
      },
      "source": [
        ""
      ],
      "execution_count": 27,
      "outputs": [
        {
          "output_type": "stream",
          "text": [
            "5\n"
          ],
          "name": "stdout"
        }
      ]
    }
  ]
}